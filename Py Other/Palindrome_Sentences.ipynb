{
  "nbformat": 4,
  "nbformat_minor": 0,
  "metadata": {
    "colab": {
      "name": "Palindrome_Sentences.ipynb",
      "provenance": [],
      "collapsed_sections": []
    },
    "kernelspec": {
      "name": "python3",
      "display_name": "Python 3"
    },
    "language_info": {
      "name": "python"
    }
  },
  "cells": [
    {
      "cell_type": "markdown",
      "source": [
        "Write a function/functions that checks whether the sentence you get from the user is a palindrome. (Do not consider punctuation and special characters. Only consider \"alphanumeric\" characters.)"
      ],
      "metadata": {
        "id": "POFiIegfNfhx"
      }
    },
    {
      "cell_type": "code",
      "source": [
        "input = \"Was it a car or a cat I saw?\"\n",
        "newinput = \"\"\n",
        "for i in input:\n",
        "  if i.isalnum():\n",
        "    newinput += i.lower()\n",
        "print(newinput)\n",
        "print(f\"{input} is a palindrome\" if newinput[::-1] == newinput else f\"{input} is a not palindrome\")"
      ],
      "metadata": {
        "id": "V7EmWYP7Nfsh",
        "colab": {
          "base_uri": "https://localhost:8080/"
        },
        "outputId": "6265d49c-5d7e-49cd-9203-067322d76e19"
      },
      "execution_count": null,
      "outputs": [
        {
          "output_type": "stream",
          "name": "stdout",
          "text": [
            "wasitacaroracatisaw\n",
            "Was it a car or a cat I saw? is a palindrome\n"
          ]
        }
      ]
    }
  ]
}