{
  "nbformat": 4,
  "nbformat_minor": 0,
  "metadata": {
    "colab": {
      "name": "Sudoku_Framework.ipynb",
      "provenance": [],
      "collapsed_sections": []
    },
    "kernelspec": {
      "name": "python3",
      "display_name": "Python 3"
    },
    "language_info": {
      "name": "python"
    }
  },
  "cells": [
    {
      "cell_type": "markdown",
      "source": [
        "Let's add framework to this sudoku.\n",
        "\n",
        "\n",
        "![image.png](data:image/png;base64,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)\n",
        "\n"
      ],
      "metadata": {
        "id": "9AuRU2ZiT0qF"
      }
    },
    {
      "cell_type": "code",
      "execution_count": 3,
      "metadata": {
        "colab": {
          "base_uri": "https://localhost:8080/"
        },
        "id": "dyl5oHVITm2G",
        "outputId": "1e0b2eb8-ae35-4dd8-ac88-97a77c6d776e"
      },
      "outputs": [
        {
          "output_type": "stream",
          "name": "stdout",
          "text": [
            "\n",
            "- - - - - - - - - - - - - -\n",
            "0  0  0 | 0  6  4 | 0  0  0\n",
            "7  0  0 | 0  0  0 | 3  9  0\n",
            "8  0  0 | 0  0  0 | 0  0  0\n",
            "- - - - - - - - - - - - - -\n",
            "0  0  0 | 5  0  2 | 0  6  0\n",
            "0  8  0 | 4  0  0 | 0  0  0\n",
            "3  5  0 | 6  0  0 | 0  7  0\n",
            "- - - - - - - - - - - - - -\n",
            "0  0  2 | 0  0  0 | 1  0  3\n",
            "0  0  1 | 0  5  9 | 0  0  0\n",
            "0  0  0 | 0  0  0 | 7  0  0\n",
            "- - - - - - - - - - - - - -\n"
          ]
        }
      ],
      "source": [
        "sudoku = [\n",
        "    [0, 0, 0, 0, 6, 4, 0, 0, 0],\n",
        "    [7, 0, 0, 0, 0, 0, 3, 9, 0],\n",
        "    [8, 0, 0, 0, 0, 0, 0, 0, 0],\n",
        "    [0, 0, 0, 5, 0, 2, 0, 6, 0],\n",
        "    [0, 8, 0, 4, 0, 0, 0, 0, 0],\n",
        "    [3, 5, 0, 6, 0, 0, 0, 7, 0],\n",
        "    [0, 0, 2, 0, 0, 0, 1, 0, 3],\n",
        "    [0, 0, 1, 0, 5, 9, 0, 0, 0],\n",
        "    [0, 0, 0, 0, 0, 0, 7, 0, 0]\n",
        "]\n",
        "\n",
        "y = x = 0\n",
        "for row in sudoku:\n",
        "  print('\\n- - - - - - - - - - - - - -' if (not y%3) else '')\n",
        "  y += 1\n",
        "  for col in row:\n",
        "    x += 1\n",
        "    print(col, end = ('  ' if (x%3) else (' | ' if (x%9) else '')))\n",
        "print('\\n- - - - - - - - - - - - - -')"
      ]
    }
  ]
}