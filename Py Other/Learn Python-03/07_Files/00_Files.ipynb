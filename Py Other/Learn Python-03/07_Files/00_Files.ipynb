{
  "cells": [
    {
      "cell_type": "code",
      "execution_count": null,
      "metadata": {
        "id": "6SDjKJg7fKT-"
      },
      "outputs": [],
      "source": [
        "Bu dosyanın çalışması için gerekli "
      ]
    },
    {
      "cell_type": "markdown",
      "metadata": {
        "id": "BVVQlHRcfIfS"
      },
      "source": [
        "'r'\t: Okumak için aç (varsayılan). Dosya yoksa fileNotFoundError yükseltilir.\n",
        "'a' : Yazmaya açık. Zaten varsa, dosyanın sonuna eklenir. Dosya yoksa, oluşturacaktır.\n",
        "'w'\t: Yazmaya açık. Dosya zaten mevcutsa, üzerine yazılacaktır. Dosya yoksa, oluşturacaktır.\n",
        "'x'\t: Özel oluşturma için açın, dosya zaten mevcutsa başarısız olur.\n",
        "'b'\t: İkili modda açın.\n",
        "'t'\t: Metin dosyası olarak aç (varsayılan).\n",
        "'+'\t: Güncellemeye açık (okuma ve yazma)."
      ]
    },
    {
      "cell_type": "markdown",
      "metadata": {
        "id": "yXe578DFfIfa"
      },
      "source": [
        "# Reading Files"
      ]
    },
    {
      "cell_type": "code",
      "execution_count": 12,
      "metadata": {
        "colab": {
          "base_uri": "https://localhost:8080/"
        },
        "id": "4ssZ6QN-hUsD",
        "outputId": "ff15e16b-8977-416c-a2b5-2ab6632be775"
      },
      "outputs": [
        {
          "name": "stdout",
          "output_type": "stream",
          "text": [
            "<class '_io.TextIOWrapper'>\n",
            "bugünkü dersler python son ders\n"
          ]
        }
      ],
      "source": [
        "my_file = open('first.txt', \"w\") # w kipi ile olmayan dosya yazma modunda oluşturulur ve açılır.\n",
        "print(type(my_file))\n",
        "my_file.write('bugünkü dersler python son ders') # write fonksiyonu ile dosya içerisine birşeyler yazabiliriz.\n",
        "my_file = open('first.txt', \"r\")\n",
        "print(my_file.read())\n",
        "my_file.close() # close ile de açtığımız dosyayı tekrar kapatmalıyız."
      ]
    },
    {
      "cell_type": "code",
      "execution_count": 13,
      "metadata": {},
      "outputs": [
        {
          "name": "stdout",
          "output_type": "stream",
          "text": [
            "bugünkü dersler python son ders\n"
          ]
        }
      ],
      "source": [
        "my_file = open('first.txt', \"r\")\n",
        "print(my_file.read())\n",
        "my_file.close() # close ile de açtığımız dosyayı tekrar kapatmalıyız."
      ]
    },
    {
      "cell_type": "code",
      "execution_count": 14,
      "metadata": {
        "colab": {
          "base_uri": "https://localhost:8080/"
        },
        "id": "YLPioY7rfIfe",
        "outputId": "662d86f5-39a3-48d5-a5c8-48a332b35473"
      },
      "outputs": [
        {
          "name": "stdout",
          "output_type": "stream",
          "text": [
            "<class '_io.TextIOWrapper'>\n",
            "Orca is a kind of Dolphin.\n",
            "Blue Whale is the largest animal known on earth.\n",
            "Sharks are the sister group to the Rays (batoids).\n",
            "The Tuna Fish can weigh up to 260 kg.\n",
            "Squid and Octopus are in the same class.\n"
          ]
        }
      ],
      "source": [
        "my_file = open(\"fishes.txt\", \"r\", encoding=\"utf-8\") # utf-8 ile de açabiliriz. Hatta alışkanlık haline getirmeliyiz.\n",
        "print(type(my_file))\n",
        "print(my_file.read())\n",
        "my_file.close()"
      ]
    },
    {
      "cell_type": "markdown",
      "metadata": {
        "id": "XnKI9NQxfIff"
      },
      "source": [
        "Read () Metodu"
      ]
    },
    {
      "cell_type": "code",
      "execution_count": 10,
      "metadata": {
        "colab": {
          "base_uri": "https://localhost:8080/"
        },
        "id": "me-HYfGpfIfg",
        "outputId": "65cc5003-eb0a-473d-e95a-75e020f23cc9"
      },
      "outputs": [
        {
          "name": "stdout",
          "output_type": "stream",
          "text": [
            "<_io.TextIOWrapper name='fishes.txt' mode='r' encoding='utf-8'>\n",
            "\n",
            "Orca is a kind of Dolphin.\n",
            "Blue Whale is the largest animal known on earth.\n",
            "Sharks are the sister group to the Rays (batoids).\n",
            "The Tuna Fish can weigh up to 260 kg.\n",
            "Squid and Octopus are in the same class.\n"
          ]
        }
      ],
      "source": [
        "# with as sözdizimi ile open () ve close() metodu birlikte kullanılmış oluyor.\n",
        "with open(\"fishes.txt\", \"r\", encoding = \"utf-8\") as file :\n",
        "    print(file)\n",
        "    print()\n",
        "    print(file.read())\n",
        "    content = file.read()"
      ]
    },
    {
      "cell_type": "code",
      "execution_count": 19,
      "metadata": {
        "id": "aMLzlnNkfIfi"
      },
      "outputs": [],
      "source": [
        "with open(\"fishes.txt\", \"r\", encoding = \"utf-8\") as file :\n",
        "    content = file.read()"
      ]
    },
    {
      "cell_type": "code",
      "execution_count": 22,
      "metadata": {
        "id": "xJWgdSYgfIfj",
        "outputId": "f82d3022-16a8-40ca-a0fc-d18077048aaf"
      },
      "outputs": [
        {
          "data": {
            "text/plain": [
              "'Orca is a kind of Dolphin.\\nBlue Whale is the largest animal known on earth.\\nSharks are the sister group to the Rays (batoids).\\nThe Tuna Fish can weigh up to 260 kg.\\nSquid and Octopus are in the same class.'"
            ]
          },
          "execution_count": 22,
          "metadata": {},
          "output_type": "execute_result"
        }
      ],
      "source": [
        "content"
      ]
    },
    {
      "cell_type": "code",
      "execution_count": 26,
      "metadata": {
        "id": "yKUoLl3tfIfk",
        "outputId": "d7c3e32c-c16f-4741-f413-1be1b875aa82"
      },
      "outputs": [
        {
          "name": "stdout",
          "output_type": "stream",
          "text": [
            "Orca is a kind of Dolphin.\n",
            "Blue W\n"
          ]
        }
      ],
      "source": [
        "with open(\"fishes.txt\", \"r\", encoding = \"utf-8\") as file :\n",
        "    print(file.read(33))\n",
        "    content_33 = file.read(33)"
      ]
    },
    {
      "cell_type": "code",
      "execution_count": 27,
      "metadata": {
        "id": "WpHTg-QOfIfl",
        "outputId": "d92a0203-71e5-4892-d644-569231dd597c"
      },
      "outputs": [
        {
          "data": {
            "text/plain": [
              "'hale is the largest animal known '"
            ]
          },
          "execution_count": 27,
          "metadata": {},
          "output_type": "execute_result"
        }
      ],
      "source": [
        "content_33  # ikinci yazdırmamızda kursor'un olduğu yerden devam."
      ]
    },
    {
      "cell_type": "code",
      "execution_count": 28,
      "metadata": {
        "id": "zf7WqeoufIfm",
        "outputId": "03fdd8ad-81c1-42b2-eeb4-e0dea560026b"
      },
      "outputs": [
        {
          "data": {
            "text/plain": [
              "205"
            ]
          },
          "execution_count": 28,
          "metadata": {},
          "output_type": "execute_result"
        }
      ],
      "source": [
        "len(content)"
      ]
    },
    {
      "cell_type": "code",
      "execution_count": 29,
      "metadata": {
        "id": "MzfAj0WTfIfm",
        "outputId": "46dd271f-7b35-455b-b676-e67196583fb4"
      },
      "outputs": [
        {
          "name": "stdout",
          "output_type": "stream",
          "text": [
            "Orca is a kind of Dolphin.\n",
            "Blue W\n"
          ]
        }
      ],
      "source": [
        "print(content[:33])"
      ]
    },
    {
      "cell_type": "code",
      "execution_count": 30,
      "metadata": {
        "id": "OWOVE2eQfIfn",
        "outputId": "9694818e-1c37-418a-9525-090b84c56fea"
      },
      "outputs": [
        {
          "name": "stdout",
          "output_type": "stream",
          "text": [
            "bugünkü dersler python son ders\n"
          ]
        }
      ],
      "source": [
        "my_file = open('first.txt', 'r') # okuma modunda açtık. \n",
        "print(my_file.read()) # yazılı olanları görüntüledik.\n",
        "my_file.close() # ve kapattık."
      ]
    },
    {
      "cell_type": "code",
      "execution_count": 32,
      "metadata": {
        "id": "-oBn_TotfIfo",
        "outputId": "0e58a1f2-a78a-4826-b081-7ade35b005aa"
      },
      "outputs": [
        {
          "name": "stdout",
          "output_type": "stream",
          "text": [
            "bugün\n",
            "kü dersler\n",
            "2\n",
            "günkü ders\n",
            "12\n"
          ]
        }
      ],
      "source": [
        "my_file = open('first.txt', 'r')\n",
        "print(my_file.read(5))  # ilk 5 karakter yazdırıldı.\n",
        "print(my_file.read(10)) # sonraki 10 karakter yazdırıldı.\n",
        "print(my_file.seek(2)) # imleç 2 olarak değiştirildi.\n",
        "print(my_file.read(10)) # 2. karekterden sonra başlayarak yazdırmaya devam eder.\n",
        "print(my_file.tell())  # geçerli imleç konumunu döndürür.\n"
      ]
    },
    {
      "cell_type": "markdown",
      "metadata": {
        "id": "kxU3AcHPfIfp"
      },
      "source": [
        "tell() Method"
      ]
    },
    {
      "cell_type": "code",
      "execution_count": null,
      "metadata": {
        "id": "4rOQCJf-fIfp",
        "outputId": "b535bfda-1759-49ff-ce2c-2d5ec328f882"
      },
      "outputs": [
        {
          "name": "stdout",
          "output_type": "stream",
          "text": [
            "Orca is a kind of Dolphin.\n",
            "Blue W\n",
            "hale is the lar\n",
            "49\n",
            "Orca is a kind of Dolphin.\n",
            "Blue W\n",
            "34\n"
          ]
        }
      ],
      "source": [
        "with open(\"fishes.txt\", \"r\", encoding = \"utf-8\") as file :\n",
        "    print(file.read(33))\n",
        "    print(file.read(15))\n",
        "    print(file.tell())\n",
        "    file.seek(0) # imleç 2 olarak değiştirildi.\n",
        "    print(file.read(33))\n",
        "    print(file.tell()) # geçerli imleç konumunu döndürür."
      ]
    },
    {
      "cell_type": "code",
      "execution_count": 33,
      "metadata": {
        "id": "rPDF6QplfIfq",
        "outputId": "756bc5c8-777d-4801-8bf4-487e2f3f493b"
      },
      "outputs": [
        {
          "name": "stdout",
          "output_type": "stream",
          "text": [
            "I want to sing\n",
            "Like the birds sing,\n",
            "Not worrying about\n",
            "Who hears or\n",
            "What they think.\n"
          ]
        }
      ],
      "source": [
        "with open(\"rumi.txt\", \"r\", encoding=\"utf-8\") as rumi :\n",
        "    print(rumi.read())"
      ]
    },
    {
      "cell_type": "code",
      "execution_count": null,
      "metadata": {
        "id": "fysBTZPdfIfq",
        "outputId": "9df07237-0add-4956-9436-043b3d3a7117"
      },
      "outputs": [
        {
          "name": "stdout",
          "output_type": "stream",
          "text": [
            "I want to sing\n",
            "Like the birds sin\n",
            "g,\n",
            "Not worrying\n",
            "50\n",
            "\n",
            "Like the birds sing,\n",
            "Not worryin\n",
            "49\n"
          ]
        }
      ],
      "source": [
        "with open(\"rumi.txt\", \"r\", encoding=\"utf-8\") as rumi :\n",
        "    print(rumi.read(33))\n",
        "    print(rumi.read(15))\n",
        "    print(rumi.tell())\n",
        "    \n",
        "    rumi.seek(15)  # cursör'ü 15 e aldım. dolaysıyla 16 yani 2. kıtadan başlatmış oldum.\n",
        "    \n",
        "    print(rumi.read(33))\n",
        "    print(rumi.tell())"
      ]
    },
    {
      "cell_type": "markdown",
      "metadata": {
        "id": "lj6zJkj1fIfr"
      },
      "source": [
        "readline() Metodu"
      ]
    },
    {
      "cell_type": "code",
      "execution_count": null,
      "metadata": {
        "id": "1BYtGfkDfIfr",
        "outputId": "81670bf2-4985-4e4e-9257-e9a0982505db"
      },
      "outputs": [
        {
          "name": "stdout",
          "output_type": "stream",
          "text": [
            "Orca is a kind of Dolphin.\n",
            "\n",
            "Blue Whale is the largest animal known on earth.\n",
            "\n",
            "Sharks are the sister group to the Rays (batoids).\n",
            "\n"
          ]
        }
      ],
      "source": [
        "with open(\"fishes.txt\", \"r\", encoding = \"utf-8\") as file :\n",
        "    print(file.readline()) # readline tüm satırı okur.\n",
        "    print(file.readline())\n",
        "    print(file.readline())"
      ]
    },
    {
      "cell_type": "code",
      "execution_count": null,
      "metadata": {
        "id": "oErsiCPxfIfs",
        "outputId": "106e7073-f7bc-43b6-cdfe-4bd9c79b1e44"
      },
      "outputs": [
        {
          "name": "stdout",
          "output_type": "stream",
          "text": [
            "Orca is \n",
            "a kind of Dol\n",
            "phin.\n",
            "\n"
          ]
        }
      ],
      "source": [
        "with open(\"fishes.txt\", \"r\", encoding = \"utf-8\") as file :\n",
        "    print(file.readline(8)) # ilk 8 karakteri yazdırdı\n",
        "    print(file.readline(13)) # kaldığı yerden devam etti.\n",
        "    print(file.readline(13)) # kalan da bitirdi."
      ]
    },
    {
      "cell_type": "code",
      "execution_count": null,
      "metadata": {
        "id": "xdOhIgVHfIft",
        "outputId": "9b2c52ba-11ca-4071-b5e5-70b36189021d"
      },
      "outputs": [
        {
          "name": "stdout",
          "output_type": "stream",
          "text": [
            "Orca is a kin\n",
            "d of Dolphin.\n",
            "\n",
            "\n",
            "Blue Whale is\n"
          ]
        }
      ],
      "source": [
        "with open(\"fishes.txt\", \"r\", encoding = \"utf-8\") as file :\n",
        "    print(file.readline(13))\n",
        "    print(file.readline(13))\n",
        "    print(file.readline(13))\n",
        "    print(file.readline(13))"
      ]
    },
    {
      "cell_type": "code",
      "execution_count": 34,
      "metadata": {
        "id": "RuLoLoO2fIft"
      },
      "outputs": [],
      "source": [
        "with open(\"fishes.txt\", \"r\", encoding = \"utf-8\") as file :\n",
        "    part_1 = file.readline(13)\n",
        "    part_2 = file.readline(13)\n",
        "    part_3 = file.readline(13)\n",
        "    part_4 = file.readline(13)"
      ]
    },
    {
      "cell_type": "code",
      "execution_count": 35,
      "metadata": {
        "id": "S2ZnH1QSfIfu",
        "outputId": "0fd16211-3755-4b31-ddf9-c1e8bc8eb27a"
      },
      "outputs": [
        {
          "name": "stdout",
          "output_type": "stream",
          "text": [
            "Orca is a kin\n",
            "d of Dolphin.\n",
            "Blue Whale is\n"
          ]
        },
        {
          "data": {
            "text/plain": [
              "'\\n'"
            ]
          },
          "execution_count": 35,
          "metadata": {},
          "output_type": "execute_result"
        }
      ],
      "source": [
        "print(part_1)\n",
        "print(part_2)\n",
        "print(part_4)\n",
        "part_3\n",
        "\n"
      ]
    },
    {
      "cell_type": "code",
      "execution_count": null,
      "metadata": {
        "id": "6-rT-uvLfIfu",
        "outputId": "33e022ca-3fd7-41fe-e821-34f9e306335e"
      },
      "outputs": [
        {
          "data": {
            "text/plain": [
              "'Orca is a kind of Dolphin.\\n'"
            ]
          },
          "execution_count": 49,
          "metadata": {},
          "output_type": "execute_result"
        }
      ],
      "source": [
        "first_line = part_1 + part_2 + part_3\n",
        "\n",
        "first_line"
      ]
    },
    {
      "cell_type": "code",
      "execution_count": null,
      "metadata": {
        "id": "VfLbPjIUfIfv",
        "outputId": "5e842032-5696-4b7a-ce04-c66655bc161f"
      },
      "outputs": [
        {
          "name": "stdout",
          "output_type": "stream",
          "text": [
            "I want to sing\n",
            "\n",
            "Like the birds sing,\n",
            "\n",
            "Not worrying about\n",
            "\n"
          ]
        }
      ],
      "source": [
        "with open(\"rumi.txt\", \"r\", encoding=\"utf-8\") as rumi :\n",
        "    \n",
        "    print(rumi.readline())\n",
        "    print(rumi.readline())\n",
        "    print(rumi.readline(500)) # 3. satırdan fazla karakter döndürmesini istesek de en fazla o satır kadar döndürür."
      ]
    },
    {
      "cell_type": "code",
      "execution_count": null,
      "metadata": {
        "id": "VEA42horfIfw",
        "outputId": "956fbd0f-16be-4b67-a411-7fa82e722e4d"
      },
      "outputs": [
        {
          "name": "stdout",
          "output_type": "stream",
          "text": [
            "bugün\n",
            "kü de\n",
            "rsler python son ders\n"
          ]
        }
      ],
      "source": [
        "my_file = open('first.txt', 'r')\n",
        "\n",
        "print(my_file.readline(5))  # ilk 5 karakteri yazdırdı\n",
        "print(my_file.readline(5))\n",
        "print(my_file.readline())  # satır bitene kadar devam etti.\n",
        "my_file.close()"
      ]
    },
    {
      "cell_type": "markdown",
      "metadata": {
        "id": "cRv_aN9CfIfw"
      },
      "source": [
        "Readlines() Metodu"
      ]
    },
    {
      "cell_type": "code",
      "execution_count": null,
      "metadata": {
        "id": "u2zcNMH7fIfx",
        "outputId": "0e88f18d-9ab8-4b35-c2f2-e39cd1b15f4f"
      },
      "outputs": [
        {
          "data": {
            "text/plain": [
              "['Orca is a kind of Dolphin.\\n',\n",
              " 'Blue Whale is the largest animal known on earth.\\n',\n",
              " 'Sharks are the sister group to the Rays (batoids).\\n',\n",
              " 'The Tuna Fish can weigh up to 260 kg.\\n',\n",
              " 'Squid and Octopus are in the same class.']"
            ]
          },
          "execution_count": 54,
          "metadata": {},
          "output_type": "execute_result"
        }
      ],
      "source": [
        "with open(\"fishes.txt\", \"r\") as file :\n",
        "    fish = file.readlines()  # satırları birleştirerek okur. Her satırı listenin bir elemanı yapar.\n",
        "fish"
      ]
    },
    {
      "cell_type": "code",
      "execution_count": null,
      "metadata": {
        "id": "ErTsMFkHfIfy",
        "outputId": "8aff37d0-9f9e-400e-d5af-fcb949442dec"
      },
      "outputs": [
        {
          "data": {
            "text/plain": [
              "list"
            ]
          },
          "execution_count": 55,
          "metadata": {},
          "output_type": "execute_result"
        }
      ],
      "source": [
        "type(fish)"
      ]
    },
    {
      "cell_type": "code",
      "execution_count": null,
      "metadata": {
        "id": "fjBllWw0fIfy",
        "outputId": "4a536209-549f-4fa1-f161-141235bff478"
      },
      "outputs": [
        {
          "name": "stdout",
          "output_type": "stream",
          "text": [
            "Orca is a kind of Dolphin.\n",
            "\n",
            "Blue Whale is the largest animal known on earth.\n",
            "\n",
            "Sharks are the sister group to the Rays (batoids).\n",
            "\n",
            "The Tuna Fish can weigh up to 260 kg.\n",
            "\n",
            "Squid and Octopus are in the same class.\n"
          ]
        }
      ],
      "source": [
        "for line in fish:\n",
        "    print(line)"
      ]
    },
    {
      "cell_type": "code",
      "execution_count": null,
      "metadata": {
        "id": "Tm3NoKfbfIfz",
        "outputId": "de50d6f1-a968-4a31-cb7d-b61ff7495bbd"
      },
      "outputs": [
        {
          "data": {
            "text/plain": [
              "['I want to sing\\n',\n",
              " 'Like the birds sing,\\n',\n",
              " 'Not worrying about\\n',\n",
              " 'Who hears or\\n',\n",
              " 'What they think.']"
            ]
          },
          "execution_count": 57,
          "metadata": {},
          "output_type": "execute_result"
        }
      ],
      "source": [
        "with open(\"rumi.txt\", \"r\") as file :\n",
        "    rumi = file.readlines()\n",
        "rumi"
      ]
    },
    {
      "cell_type": "code",
      "execution_count": 38,
      "metadata": {
        "id": "g-Jo2l-cfIfz",
        "outputId": "3d314f57-60c7-45ff-9d59-079669059b31"
      },
      "outputs": [
        {
          "name": "stdout",
          "output_type": "stream",
          "text": [
            "bugün\n",
            "['günkü dersler python son ders']\n"
          ]
        }
      ],
      "source": [
        "my_file = open('first.txt', 'r')\n",
        "\n",
        "print(my_file.readline(5))  # ilk satır 5. index.\n",
        "my_file.seek(2) # 2. index'e adık.\n",
        "print(my_file.readlines()) \n",
        "\n",
        "my_file.close()"
      ]
    },
    {
      "cell_type": "code",
      "execution_count": null,
      "metadata": {
        "id": "wjfv0rFtfIfz",
        "outputId": "5bb1aa22-7064-4218-a29d-bcb11ebed444"
      },
      "outputs": [
        {
          "name": "stdout",
          "output_type": "stream",
          "text": [
            "<class 'list'>\n"
          ]
        }
      ],
      "source": [
        "my_file = open('first.txt', 'r')\n",
        "\n",
        "print(type(my_file.readlines()))  # Türünü görelim.\n",
        "\n",
        "my_file.close()"
      ]
    },
    {
      "cell_type": "markdown",
      "metadata": {
        "id": "xVALOIO6fIf0"
      },
      "source": [
        "Writing Files"
      ]
    },
    {
      "cell_type": "code",
      "execution_count": null,
      "metadata": {
        "id": "ugm6cAjrfIf0",
        "outputId": "7ab6e2d9-3bf7-4d3e-a853-69d0a08252fd"
      },
      "outputs": [
        {
          "name": "stdout",
          "output_type": "stream",
          "text": [
            "This is the first line of my text file.\n"
          ]
        }
      ],
      "source": [
        "with open(\"dummy_file.txt\", \"w\", encoding=\"utf-8\") as file :\n",
        "    \n",
        "    file.write(\"This is the first line of my text file.\")\n",
        "\n",
        "with open(\"dummy_file.txt\", \"r\", encoding=\"utf-8\") as file :\n",
        "    print(file.read())"
      ]
    },
    {
      "cell_type": "code",
      "execution_count": null,
      "metadata": {
        "id": "Hm9jdg-xfIf1"
      },
      "outputs": [],
      "source": [
        "ls"
      ]
    },
    {
      "cell_type": "code",
      "execution_count": null,
      "metadata": {
        "id": "uq9zZHQKfIf1"
      },
      "outputs": [],
      "source": [
        "import os"
      ]
    },
    {
      "cell_type": "code",
      "execution_count": 41,
      "metadata": {
        "id": "H5LfYiy6fIf1",
        "outputId": "6701bd56-b22f-4910-8bd9-220e9af348f7"
      },
      "outputs": [
        {
          "data": {
            "text/plain": [
              "['00_Files.ipynb',\n",
              " 'first.txt',\n",
              " 'fishes.txt',\n",
              " 'fruits.csv',\n",
              " 'istiklal.txt',\n",
              " 'rumi.txt',\n",
              " 'titanic.csv']"
            ]
          },
          "execution_count": 41,
          "metadata": {},
          "output_type": "execute_result"
        }
      ],
      "source": [
        "os.listdir()"
      ]
    },
    {
      "cell_type": "code",
      "execution_count": 40,
      "metadata": {
        "id": "JWj1JTc2fIf2",
        "outputId": "d5c2f766-f71b-4642-fad8-c89ef33eddf9"
      },
      "outputs": [
        {
          "data": {
            "text/plain": [
              "['00_Files.ipynb',\n",
              " 'first.txt',\n",
              " 'fishes.txt',\n",
              " 'fruits.csv',\n",
              " 'istiklal.txt',\n",
              " 'rumi.txt',\n",
              " 'titanic.csv']"
            ]
          },
          "execution_count": 40,
          "metadata": {},
          "output_type": "execute_result"
        }
      ],
      "source": [
        "files = os.listdir()\n",
        "files"
      ]
    },
    {
      "cell_type": "markdown",
      "metadata": {
        "id": "Uzz24NlSfIf2"
      },
      "source": [
        "Using Loops"
      ]
    },
    {
      "cell_type": "code",
      "execution_count": 45,
      "metadata": {
        "id": "iJPgAjTtfIf2",
        "outputId": "b877771a-572c-4aec-c5df-ef198aee4da2"
      },
      "outputs": [
        {
          "name": "stdout",
          "output_type": "stream",
          "text": [
            "bugï¿½nkï¿½ dersler python son ders\n",
            "\n",
            "Yarin Network dersi var.\n",
            "\n",
            "SOnraki gun tatil.\n"
          ]
        }
      ],
      "source": [
        "my_file = open('first.txt', 'r')\n",
        "\n",
        "for i in my_file:\n",
        "    print(i) \n",
        "\n",
        "my_file.close()"
      ]
    },
    {
      "cell_type": "code",
      "execution_count": 44,
      "metadata": {
        "id": "xMENoepafIf2",
        "outputId": "f039a76a-bc97-4b3b-b269-a849c5996a5a"
      },
      "outputs": [
        {
          "name": "stdout",
          "output_type": "stream",
          "text": [
            "bugï¿½nkï¿½ dersler python son ders\n",
            "\n",
            "Yarin Network dersi var.\n",
            "\n",
            "SOnraki gun tatil.\n"
          ]
        }
      ],
      "source": [
        "my_file = open('first.txt', 'r')\n",
        "\n",
        "for i in my_file.readlines():\n",
        "    print(i)\n",
        "my_file.close()"
      ]
    },
    {
      "cell_type": "code",
      "execution_count": 50,
      "metadata": {
        "id": "5TKyXvyifIf3"
      },
      "outputs": [],
      "source": [
        "fruits = ['Banana', 'Orange', 'Apple', 'Strawberry', 'Cherry']"
      ]
    },
    {
      "cell_type": "code",
      "execution_count": 57,
      "metadata": {
        "id": "7w80zubsfIf3",
        "outputId": "d0110448-d78b-4675-b368-660f54381888"
      },
      "outputs": [],
      "source": [
        "with open(\"fruits.txt\", \"w\", encoding=\"utf-8\") as dosyam :\n",
        "    for meyve in fruits :\n",
        "        dosyam.write(meyve + \"\\n\")\n",
        "        \n",
        "# with open(\"fruits.txt\", \"r\", encoding = \"utf-8\") as file :\n",
        "#     print(file.read())"
      ]
    },
    {
      "cell_type": "code",
      "execution_count": 58,
      "metadata": {
        "id": "a_xYCjPEfIf3",
        "outputId": "5a764394-ca09-48e6-9150-ed9a40d20d8e"
      },
      "outputs": [
        {
          "data": {
            "text/plain": [
              "['Banana\\n', 'Orange\\n', 'Apple\\n', 'Strawberry\\n', 'Cherry\\n']"
            ]
          },
          "execution_count": 58,
          "metadata": {},
          "output_type": "execute_result"
        }
      ],
      "source": [
        "with open(\"fruits.txt\") as file:\n",
        "    fruits2 = file.readlines()\n",
        "fruits2"
      ]
    },
    {
      "cell_type": "code",
      "execution_count": 63,
      "metadata": {
        "id": "R6nTNrqffIf4"
      },
      "outputs": [],
      "source": [
        "with open(\"fruits2.txt\", \"w\", encoding=\"utf-8\") as ff :\n",
        "    ff.writelines(fruits2)"
      ]
    },
    {
      "cell_type": "code",
      "execution_count": 64,
      "metadata": {
        "id": "1Vb4NuCJfIf4",
        "outputId": "d5461166-cfb5-4d7c-a5d9-0602425d9ca0"
      },
      "outputs": [
        {
          "name": "stdout",
          "output_type": "stream",
          "text": [
            "Banana\n",
            "Orange\n",
            "Apple\n",
            "Strawberry\n",
            "Cherry\n",
            "\n"
          ]
        }
      ],
      "source": [
        "with open(\"fruits2.txt\", \"r\", encoding=\"utf-8\") as ff :\n",
        "    print(ff.read())"
      ]
    },
    {
      "cell_type": "code",
      "execution_count": 69,
      "metadata": {
        "id": "HMh7UYhVfIf4"
      },
      "outputs": [],
      "source": [
        "with open(\"fruits2.txt\", \"a\", encoding=\"utf-8\") as ff : # a modunda append yaptı.\n",
        "    ff.writelines(fruits2)"
      ]
    },
    {
      "cell_type": "code",
      "execution_count": 70,
      "metadata": {
        "id": "YL3qfEApfIf5",
        "outputId": "d075d65e-3cb0-4751-82f9-c4411f93ad29"
      },
      "outputs": [
        {
          "name": "stdout",
          "output_type": "stream",
          "text": [
            "Banana\n",
            "Orange\n",
            "Apple\n",
            "Strawberry\n",
            "Cherry\n",
            "Banana\n",
            "Orange\n",
            "Apple\n",
            "Strawberry\n",
            "Cherry\n",
            "\n"
          ]
        }
      ],
      "source": [
        "with open(\"fruits2.txt\", \"r\", encoding=\"utf-8\") as ff :\n",
        "    print(ff.read())"
      ]
    },
    {
      "cell_type": "markdown",
      "metadata": {
        "id": "gnE4yuRvfIf5"
      },
      "source": [
        "The Matter of Closing the Files\n",
        "Dosya ile işimiz bittiğinde verileri kaybetmemek için close() ile kapatmamız gerekir. Bunun bir kısa yolu vardır. Aşağıda. "
      ]
    },
    {
      "cell_type": "code",
      "execution_count": 72,
      "metadata": {
        "id": "TLg4czOQfIf5",
        "outputId": "ffab79fc-f600-4b60-e0a3-48d7bd5fb0b1"
      },
      "outputs": [
        {
          "name": "stdout",
          "output_type": "stream",
          "text": [
            "bugï¿½nkï¿½ dersler python son ders\n",
            "Yarin Network dersi var.\n",
            "SOnraki gun tatil.\n"
          ]
        }
      ],
      "source": [
        "with open('first.txt', 'r') as my_file:\n",
        "    print(my_file.read())"
      ]
    },
    {
      "cell_type": "code",
      "execution_count": 73,
      "metadata": {
        "id": "NxphUrH7fIf5",
        "outputId": "b61814f8-7188-42e5-e0c4-aa4c7d3aa73c"
      },
      "outputs": [
        {
          "data": {
            "text/plain": [
              "['Banana\\n', 'Orange\\n', 'Apple\\n', 'Strawberry\\n', 'Cherry\\n', 'Lemon']"
            ]
          },
          "execution_count": 73,
          "metadata": {},
          "output_type": "execute_result"
        }
      ],
      "source": [
        "fruits3 = fruits2 + [\"Lemon\"]\n",
        "fruits3"
      ]
    },
    {
      "cell_type": "code",
      "execution_count": 76,
      "metadata": {},
      "outputs": [],
      "source": [
        "with open('fruits3.txt', \"w\", encoding='utf-8') as file:\n",
        "    file.writelines(fruits3)  # For döngüsü ile yapmamız gereken writelines ile yaptık."
      ]
    },
    {
      "cell_type": "code",
      "execution_count": 79,
      "metadata": {},
      "outputs": [
        {
          "name": "stdout",
          "output_type": "stream",
          "text": [
            "Banana\n",
            "Orange\n",
            "Apple\n",
            "Strawberry\n",
            "Cherry\n",
            "Lemon\n"
          ]
        }
      ],
      "source": [
        "with open('fruits3.txt', \"r\", encoding='utf-8') as file:\n",
        "    print(file.read())"
      ]
    },
    {
      "cell_type": "markdown",
      "metadata": {
        "id": "6c3R9HcVfIf6"
      },
      "source": [
        "Write"
      ]
    },
    {
      "cell_type": "code",
      "execution_count": 80,
      "metadata": {
        "id": "J7bebRSmfIf6",
        "outputId": "8a363e12-dfd0-4fe3-faaa-c52bb5de1beb"
      },
      "outputs": [
        {
          "name": "stdout",
          "output_type": "stream",
          "text": [
            "Bu ilk satır\n"
          ]
        }
      ],
      "source": [
        "with open('dummy.txt', 'w') as file:\n",
        "    file.write('Bu ilk satır')\n",
        "\n",
        "with open('dummy.txt', 'r') as file:\n",
        "    print(file.read())"
      ]
    },
    {
      "cell_type": "code",
      "execution_count": 81,
      "metadata": {
        "id": "jSC9qGHGfIf6",
        "outputId": "40865408-7fe6-4d45-bd25-d9aaf02f4bf3"
      },
      "outputs": [
        {
          "name": "stdout",
          "output_type": "stream",
          "text": [
            "Bu ikinci satır\n"
          ]
        }
      ],
      "source": [
        "with open('dummy.txt', 'w') as file:  # görüldüğü gibi ilk satırda yazılan silindi.\n",
        "    file.write('Bu ikinci satır')  # Çünkü W her çalıştığında siler.\n",
        "\n",
        "with open('dummy.txt', 'r') as file:\n",
        "    print(file.read())"
      ]
    },
    {
      "cell_type": "code",
      "execution_count": 82,
      "metadata": {
        "id": "ok6xdaz7fIf7",
        "outputId": "12f77c04-0f31-437b-a75e-e297b4cfa8b7"
      },
      "outputs": [
        {
          "name": "stdout",
          "output_type": "stream",
          "text": [
            "My first sentence\n",
            "devamıMy second sentence,My third sentence\n",
            "My fourth sentence My last sentence\n"
          ]
        }
      ],
      "source": [
        "with open(\"dummy_file.txt\", 'w', encoding=\"utf-8\") as file:\n",
        "    file.write('My first sentence\\ndevamı')\n",
        "    file.write('My second sentence,')\n",
        "    file.write('My third sentence\\n')\n",
        "    file.write('My fourth sentence ')\n",
        "    file.write('My last sentence')\n",
        "\n",
        "with open(\"dummy_file.txt\", 'r', encoding=\"utf-8\") as file:\n",
        "    print(file.read())"
      ]
    },
    {
      "cell_type": "code",
      "execution_count": null,
      "metadata": {
        "id": "qmGo5cMJfIf7",
        "outputId": "67ff31a5-85af-4842-894e-dd89ad6b7ed1"
      },
      "outputs": [
        {
          "name": "stdout",
          "output_type": "stream",
          "text": [
            "Banana\n",
            "Orange\n",
            "Apple\n",
            "Strawberry\n",
            "Cherry\n",
            "\n",
            "['Banana\\n', 'Orange\\n', 'Apple\\n', 'Strawberry\\n', 'Cherry\\n']\n"
          ]
        }
      ],
      "source": [
        "fruits = ['Banana', 'Orange', 'Apple', 'Strawberry', 'Cherry']\n",
        "\n",
        "with open('fruit.txt', 'w') as file:\n",
        "    for i in fruits:\n",
        "        file.write(i + '\\n')\n",
        "with open('fruit.txt', 'r') as file:\n",
        "    print(file.read())\n",
        "with open('fruit.txt', 'r') as file:\n",
        "    print(file.readlines())"
      ]
    },
    {
      "cell_type": "code",
      "execution_count": 83,
      "metadata": {
        "id": "2LEuUBOgfIf8",
        "outputId": "ada14d76-76ca-45aa-d85d-df2ca7d15b46"
      },
      "outputs": [
        {
          "name": "stdout",
          "output_type": "stream",
          "text": [
            "BananaOrange\n",
            "Apple\n",
            "Strawberry\n",
            "Cherry\n",
            "\n",
            "['BananaOrange\\n', 'Apple\\n', 'Strawberry\\n', 'Cherry\\n']\n"
          ]
        }
      ],
      "source": [
        "fruits = ['Banana', 'Orange\\n', 'Apple\\n', 'Strawberry\\n', 'Cherry\\n']\n",
        "\n",
        "with open(\"fruits.txt\", 'w', encoding=\"utf-8\") as file:\n",
        "    file.writelines(fruits)  # takes an iterator for writing\n",
        "   \n",
        "with open(\"fruits.txt\", 'r', encoding=\"utf-8\") as file:\n",
        "    print(file.read())\n",
        "\n",
        "with open(\"fruits.txt\", 'r', encoding=\"utf-8\") as file:\n",
        "    print(file.readlines())"
      ]
    },
    {
      "cell_type": "code",
      "execution_count": 84,
      "metadata": {
        "id": "GHJKUVysfIf8"
      },
      "outputs": [
        {
          "name": "stdout",
          "output_type": "stream",
          "text": [
            "Banana\n",
            "Orange\n",
            "Apple\n",
            "Strawberry\n",
            "Cherry\n",
            "\n",
            "Banana\n",
            "Orange\n",
            "Apple\n",
            "Strawberry\n",
            "Cherry\n",
            "Melon\n",
            "\n",
            "['Banana\\n', 'Orange\\n', 'Apple\\n', 'Strawberry\\n', 'Cherry\\n', 'Melon\\n']\n"
          ]
        }
      ],
      "source": [
        "fruits = ['Banana\\n', 'Orange\\n', 'Apple\\n', 'Strawberry\\n', 'Cherry\\n']\n",
        "\n",
        "with open(\"fruits.txt\", 'w', encoding=\"utf-8\") as file:\n",
        "    file.writelines(fruits)  # creates a file containing the elements of the list\n",
        "\n",
        "with open(\"fruits.txt\", 'r', encoding=\"utf-8\") as file:\n",
        "    print(file.read())  # reads the content of the file\n",
        "\n",
        "with open(\"fruits.txt\", 'a', encoding=\"utf-8\") as file:\n",
        "    file.write('Melon\\n')  # adds \"Melon\" to the end of the existing file\n",
        "   \n",
        "with open(\"fruits.txt\", 'r', encoding=\"utf-8\") as file:\n",
        "    print(file.read())  # reads the last content of the file\n",
        "\n",
        "with open(\"fruits.txt\", 'r', encoding=\"utf-8\") as file:\n",
        "    print(file.readlines())"
      ]
    },
    {
      "cell_type": "code",
      "execution_count": 87,
      "metadata": {
        "id": "1qS-7SaifIf8",
        "outputId": "dc0f117c-dcac-45de-afe1-955bdfb6fa04"
      },
      "outputs": [
        {
          "name": "stdout",
          "output_type": "stream",
          "text": [
            "Korkma, sönmez bu şafaklarda yüzen al sancak;\n",
            "Sönmeden yurdumun üstünde tüten en son ocak.\n",
            "O benim milletimin yıldızıdır, parlayacak;\n",
            "O benimdir, o benim milletimindir ancak.\n",
            "\n",
            "Çatma, kurban olayım, çehreni ey nazlı hilal!\n",
            "Kahraman ırkıma bir gül! Ne bu şiddet, bu celal?\n",
            "Sana olmaz dökülen kanlarımız sonra helal...\n",
            "Hakkıdır, hakk'a tapan, milletimin istiklal!\n",
            "\n",
            "Ben ezelden beridir hür yaşadım, hür yaşarım.\n",
            "Hangi çılgın bana zincir vuracakmış? Şaşarım!\n",
            "Kükremiş sel gibiyim, bendimi çiğner, aşarım.\n",
            "Yırtarım dağları, enginlere sığmam, taşarım.\n",
            "\n",
            "Garbın afakını sarmışsa çelik zırhlı duvar,\n",
            "Benim iman dolu göğsüm gibi serhaddim var.\n",
            "Ulusun, korkma! Nasıl böyle bir imanı boğar,\n",
            "'Medeniyet!' dediğin tek dişi kalmış canavar?\n",
            "\n",
            "Arkadaş! Yurduma alçakları uğratma, sakın.\n",
            "Siper et gövdeni, dursun bu hayasızca akın.\n",
            "Doğacaktır sana va'dettigi günler hakk'ın...\n",
            "Kim bilir, belki yarın, belki yarından da yakın.\n",
            "\n",
            "Bastığın yerleri 'toprak!' diyerek geçme, tanı:\n",
            "Düşün altında binlerce kefensiz yatanı.\n",
            "Sen şehit oğlusun, incitme, yazıktır, atanı:\n",
            "Verme, dünyaları alsan da, bu cennet vatanı.\n",
            "\n",
            "Kim bu cennet vatanın uğruna olmaz ki feda?\n",
            "Şuheda fışkıracak toprağı sıksan, şuheda!\n",
            "Canı, cananı, bütün varımı alsın da hüda,\n",
            "Etmesin tek vatanımdan beni dünyada cüda.\n",
            "\n",
            "Ruhumun senden, ilahi, şudur ancak emeli:\n",
            "Değmesin mabedimin göğsüne namahrem eli.\n",
            "Bu ezanlar-ki şahadetleri dinin temeli,\n",
            "Ebedi yurdumun üstünde benim inlemeli.\n",
            "\n"
          ]
        }
      ],
      "source": [
        "with open(\"istiklal.txt\", \"r\", encoding = \"utf-8\") as file:\n",
        "    print(file.read())"
      ]
    },
    {
      "cell_type": "code",
      "execution_count": 88,
      "metadata": {
        "id": "xz-jEN9mfIf9"
      },
      "outputs": [],
      "source": [
        "with open(\"istiklal.txt\", \"r\", encoding=\"utf-8\") as file:\n",
        "    lines = file.readlines()"
      ]
    },
    {
      "cell_type": "code",
      "execution_count": 89,
      "metadata": {
        "id": "XjpBNSabfIf9",
        "outputId": "e8fd0eb4-218c-45ba-f77e-52e10a24efed"
      },
      "outputs": [
        {
          "data": {
            "text/plain": [
              "['Korkma, sönmez bu şafaklarda yüzen al sancak;\\n',\n",
              " 'Sönmeden yurdumun üstünde tüten en son ocak.\\n',\n",
              " 'O benim milletimin yıldızıdır, parlayacak;\\n',\n",
              " 'O benimdir, o benim milletimindir ancak.\\n',\n",
              " '\\n',\n",
              " 'Çatma, kurban olayım, çehreni ey nazlı hilal!\\n',\n",
              " 'Kahraman ırkıma bir gül! Ne bu şiddet, bu celal?\\n',\n",
              " 'Sana olmaz dökülen kanlarımız sonra helal...\\n',\n",
              " \"Hakkıdır, hakk'a tapan, milletimin istiklal!\\n\",\n",
              " '\\n',\n",
              " 'Ben ezelden beridir hür yaşadım, hür yaşarım.\\n',\n",
              " 'Hangi çılgın bana zincir vuracakmış? Şaşarım!\\n',\n",
              " 'Kükremiş sel gibiyim, bendimi çiğner, aşarım.\\n',\n",
              " 'Yırtarım dağları, enginlere sığmam, taşarım.\\n',\n",
              " '\\n',\n",
              " 'Garbın afakını sarmışsa çelik zırhlı duvar,\\n',\n",
              " 'Benim iman dolu göğsüm gibi serhaddim var.\\n',\n",
              " 'Ulusun, korkma! Nasıl böyle bir imanı boğar,\\n',\n",
              " \"'Medeniyet!' dediğin tek dişi kalmış canavar?\\n\",\n",
              " '\\n',\n",
              " 'Arkadaş! Yurduma alçakları uğratma, sakın.\\n',\n",
              " 'Siper et gövdeni, dursun bu hayasızca akın.\\n',\n",
              " \"Doğacaktır sana va'dettigi günler hakk'ın...\\n\",\n",
              " 'Kim bilir, belki yarın, belki yarından da yakın.\\n',\n",
              " '\\n',\n",
              " \"Bastığın yerleri 'toprak!' diyerek geçme, tanı:\\n\",\n",
              " 'Düşün altında binlerce kefensiz yatanı.\\n',\n",
              " 'Sen şehit oğlusun, incitme, yazıktır, atanı:\\n',\n",
              " 'Verme, dünyaları alsan da, bu cennet vatanı.\\n',\n",
              " '\\n',\n",
              " 'Kim bu cennet vatanın uğruna olmaz ki feda?\\n',\n",
              " 'Şuheda fışkıracak toprağı sıksan, şuheda!\\n',\n",
              " 'Canı, cananı, bütün varımı alsın da hüda,\\n',\n",
              " 'Etmesin tek vatanımdan beni dünyada cüda.\\n',\n",
              " '\\n',\n",
              " 'Ruhumun senden, ilahi, şudur ancak emeli:\\n',\n",
              " 'Değmesin mabedimin göğsüne namahrem eli.\\n',\n",
              " 'Bu ezanlar-ki şahadetleri dinin temeli,\\n',\n",
              " 'Ebedi yurdumun üstünde benim inlemeli.\\n']"
            ]
          },
          "execution_count": 89,
          "metadata": {},
          "output_type": "execute_result"
        }
      ],
      "source": [
        "lines"
      ]
    },
    {
      "cell_type": "code",
      "execution_count": null,
      "metadata": {
        "id": "X_uhCp5lfIf9"
      },
      "outputs": [],
      "source": [
        "counter = 0\n",
        "\n",
        "with open(\"istiklal.txt\", \"w\", encoding=\"utf-8\") as file:\n",
        "    for line in lines:\n",
        "        counter += 1\n",
        "        if counter % 4 == 0:\n",
        "            file.write(line + '\\n')\n",
        "        else:\n",
        "            file.write(line)"
      ]
    },
    {
      "cell_type": "code",
      "execution_count": null,
      "metadata": {
        "id": "kSlGU6BbfIf9",
        "outputId": "7f567c73-6d6f-437d-db7e-568b796168ac"
      },
      "outputs": [
        {
          "name": "stdout",
          "output_type": "stream",
          "text": [
            "Korkma, sönmez bu şafaklarda yüzen al sancak;\n",
            "Sönmeden yurdumun üstünde tüten en son ocak.\n",
            "O benim milletimin yıldızıdır, parlayacak;\n",
            "O benimdir, o benim milletimindir ancak.\n",
            "\n",
            "Çatma, kurban olayım, çehreni ey nazlı hilal!\n",
            "Kahraman ırkıma bir gül! Ne bu şiddet, bu celal?\n",
            "Sana olmaz dökülen kanlarımız sonra helal...\n",
            "Hakkıdır, hakk'a tapan, milletimin istiklal!\n",
            "\n",
            "Ben ezelden beridir hür yaşadım, hür yaşarım.\n",
            "Hangi çılgın bana zincir vuracakmış? Şaşarım!\n",
            "Kükremiş sel gibiyim, bendimi çiğner, aşarım.\n",
            "Yırtarım dağları, enginlere sığmam, taşarım.\n",
            "\n",
            "Garbın afakını sarmışsa çelik zırhlı duvar,\n",
            "Benim iman dolu göğsüm gibi serhaddim var.\n",
            "Ulusun, korkma! Nasıl böyle bir imanı boğar,\n",
            "'Medeniyet!' dediğin tek dişi kalmış canavar?\n",
            "\n",
            "Arkadaş! Yurduma alçakları uğratma, sakın.\n",
            "Siper et gövdeni, dursun bu hayasızca akın.\n",
            "Doğacaktır sana va'dettigi günler hakk'ın...\n",
            "Kim bilir, belki yarın, belki yarından da yakın.\n",
            "\n",
            "Bastığın yerleri 'toprak!' diyerek geçme, tanı:\n",
            "Düşün altında binlerce kefensiz yatanı.\n",
            "Sen şehit oğlusun, incitme, yazıktır, atanı:\n",
            "Verme, dünyaları alsan da, bu cennet vatanı.\n",
            "\n",
            "Kim bu cennet vatanın uğruna olmaz ki feda?\n",
            "Şuheda fışkıracak toprağı sıksan, şuheda!\n",
            "Canı, cananı, bütün varımı alsın da hüda,\n",
            "Etmesin tek vatanımdan beni dünyada cüda.\n",
            "\n",
            "Ruhumun senden, ilahi, şudur ancak emeli:\n",
            "Değmesin mabedimin göğsüne namahrem eli.\n",
            "Bu ezanlar-ki şahadetleri dinin temeli,\n",
            "Ebedi yurdumun üstünde benim inlemeli.\n",
            "\n"
          ]
        }
      ],
      "source": [
        "with open(\"istiklal.txt\", \"r\", encoding=\"utf-8\") as file :\n",
        "    print(file.read())"
      ]
    },
    {
      "cell_type": "markdown",
      "metadata": {
        "id": "mLtAvu2nfIf-"
      },
      "source": [
        "CSV"
      ]
    },
    {
      "cell_type": "code",
      "execution_count": 99,
      "metadata": {
        "id": "K5ZSnN7pfIf-"
      },
      "outputs": [
        {
          "name": "stdout",
          "output_type": "stream",
          "text": [
            "['no', 'fruit', 'amount']\n",
            "['1', 'Banana', '4 kg']\n",
            "['2', 'Orange', '5 kg']\n",
            "['3', 'Apple', '6 kg']\n",
            "['4', 'Strawberry', '2 kg']\n",
            "['5', 'Cherry', '1 kg']\n"
          ]
        }
      ],
      "source": [
        "csv = open('fruits.csv', 'r')\n",
        "print(csv.read())\n",
        "csv.close()"
      ]
    },
    {
      "cell_type": "code",
      "execution_count": 100,
      "metadata": {
        "id": "KgUzwWB4fIf-",
        "outputId": "cdcb45e7-7279-432c-b816-dac081d6aafc"
      },
      "outputs": [
        {
          "name": "stdout",
          "output_type": "stream",
          "text": [
            "['no', 'fruit', 'amount']\n",
            "['1', 'Banana', '4 kg']\n",
            "['2', 'Orange', '5 kg']\n",
            "['3', 'Apple', '6 kg']\n",
            "['4', 'Strawberry', '2 kg']\n",
            "['5', 'Cherry', '1 kg']\n"
          ]
        }
      ],
      "source": [
        "with open('fruits.csv', 'r') as csv:\n",
        "    print(csv.read())"
      ]
    },
    {
      "cell_type": "code",
      "execution_count": 101,
      "metadata": {
        "id": "m_2C_MByfIf_"
      },
      "outputs": [
        {
          "name": "stdout",
          "output_type": "stream",
          "text": [
            "[\"['no'\", \" 'fruit'\", \" 'amount']\"]\n",
            "[\"['1'\", \" 'Banana'\", \" '4 kg']\"]\n",
            "[\"['2'\", \" 'Orange'\", \" '5 kg']\"]\n",
            "[\"['3'\", \" 'Apple'\", \" '6 kg']\"]\n",
            "[\"['4'\", \" 'Strawberry'\", \" '2 kg']\"]\n",
            "[\"['5'\", \" 'Cherry'\", \" '1 kg']\"]\n"
          ]
        }
      ],
      "source": [
        "import csv  # loads csv module\n",
        "\n",
        "with open(\"fruits.csv\", 'r', newline = '', encoding = 'utf-8') as file:\n",
        "    csv_rows = csv.reader(file)  # reader() function takes each\n",
        "                                 # row (lines) into a list\n",
        "    for row in csv_rows: \n",
        "        print(row)  "
      ]
    },
    {
      "cell_type": "code",
      "execution_count": 102,
      "metadata": {
        "id": "50RsgkuifIf_",
        "outputId": "80d065bf-7654-456a-dd49-21067b87cc58"
      },
      "outputs": [
        {
          "name": "stdout",
          "output_type": "stream",
          "text": [
            "[\"['no'\", \" 'fruit'\", \" 'amount']\"]\n",
            "[\"['1'\", \" 'Banana'\", \" '4 kg']\"]\n",
            "[\"['2'\", \" 'Orange'\", \" '5 kg']\"]\n",
            "[\"['3'\", \" 'Apple'\", \" '6 kg']\"]\n",
            "[\"['4'\", \" 'Strawberry'\", \" '2 kg']\"]\n",
            "[\"['5'\", \" 'Cherry'\", \" '1 kg']\"]\n"
          ]
        }
      ],
      "source": [
        "import csv\n",
        "\n",
        "with open(\"fruits.csv\", 'r', newline = '', encoding = 'utf-8') as file:\n",
        "    csv_rows = csv.reader(file, delimiter= \",\")  # gives the same output as the previous one\n",
        "                                 \n",
        "    for row in csv_rows: \n",
        "        print(row) "
      ]
    },
    {
      "cell_type": "code",
      "execution_count": 103,
      "metadata": {
        "id": "hC8cZDbXfIf_",
        "outputId": "1a71b09f-99cf-4748-f169-74bc467c9c81"
      },
      "outputs": [
        {
          "name": "stdout",
          "output_type": "stream",
          "text": [
            "[\"['no', 'fruit', 'amount']\"]\n",
            "[\"['1', 'Banana', '4 kg']\"]\n",
            "[\"['2', 'Orange', '5 kg']\"]\n",
            "[\"['3', 'Apple', '6 kg']\"]\n",
            "[\"['4', 'Strawberry', '2 kg']\"]\n",
            "[\"['5', 'Cherry', '1 kg']\"]\n"
          ]
        }
      ],
      "source": [
        "import csv \n",
        "\n",
        "with open(\"fruits.csv\", 'r', newline = '', encoding = 'utf-8') as file:\n",
        "    csv_rows = csv.reader(file, delimiter = ':')  # we specified a char \":\" that is not used\n",
        "                                                  # in the csv file as a value of delimiter\n",
        "    for row in csv_rows: \n",
        "        print(row)"
      ]
    },
    {
      "cell_type": "code",
      "execution_count": 107,
      "metadata": {
        "id": "1Gb0FH-6fIgA"
      },
      "outputs": [
        {
          "data": {
            "text/html": [
              "<div>\n",
              "<style scoped>\n",
              "    .dataframe tbody tr th:only-of-type {\n",
              "        vertical-align: middle;\n",
              "    }\n",
              "\n",
              "    .dataframe tbody tr th {\n",
              "        vertical-align: top;\n",
              "    }\n",
              "\n",
              "    .dataframe thead th {\n",
              "        text-align: right;\n",
              "    }\n",
              "</style>\n",
              "<table border=\"1\" class=\"dataframe\">\n",
              "  <thead>\n",
              "    <tr style=\"text-align: right;\">\n",
              "      <th></th>\n",
              "      <th>PassengerId</th>\n",
              "      <th>Survived</th>\n",
              "      <th>Pclass</th>\n",
              "      <th>Name</th>\n",
              "      <th>Sex</th>\n",
              "      <th>Age</th>\n",
              "      <th>SibSp</th>\n",
              "      <th>Parch</th>\n",
              "      <th>Ticket</th>\n",
              "      <th>Fare</th>\n",
              "      <th>Cabin</th>\n",
              "      <th>Embarked</th>\n",
              "    </tr>\n",
              "  </thead>\n",
              "  <tbody>\n",
              "    <tr>\n",
              "      <th>0</th>\n",
              "      <td>1</td>\n",
              "      <td>0</td>\n",
              "      <td>3</td>\n",
              "      <td>Braund, Mr. Owen Harris</td>\n",
              "      <td>male</td>\n",
              "      <td>22.0</td>\n",
              "      <td>1</td>\n",
              "      <td>0</td>\n",
              "      <td>A/5 21171</td>\n",
              "      <td>7.2500</td>\n",
              "      <td>NaN</td>\n",
              "      <td>S</td>\n",
              "    </tr>\n",
              "    <tr>\n",
              "      <th>1</th>\n",
              "      <td>2</td>\n",
              "      <td>1</td>\n",
              "      <td>1</td>\n",
              "      <td>Cumings, Mrs. John Bradley (Florence Briggs Th...</td>\n",
              "      <td>female</td>\n",
              "      <td>38.0</td>\n",
              "      <td>1</td>\n",
              "      <td>0</td>\n",
              "      <td>PC 17599</td>\n",
              "      <td>71.2833</td>\n",
              "      <td>C85</td>\n",
              "      <td>C</td>\n",
              "    </tr>\n",
              "    <tr>\n",
              "      <th>2</th>\n",
              "      <td>3</td>\n",
              "      <td>1</td>\n",
              "      <td>3</td>\n",
              "      <td>Heikkinen, Miss. Laina</td>\n",
              "      <td>female</td>\n",
              "      <td>26.0</td>\n",
              "      <td>0</td>\n",
              "      <td>0</td>\n",
              "      <td>STON/O2. 3101282</td>\n",
              "      <td>7.9250</td>\n",
              "      <td>NaN</td>\n",
              "      <td>S</td>\n",
              "    </tr>\n",
              "    <tr>\n",
              "      <th>3</th>\n",
              "      <td>4</td>\n",
              "      <td>1</td>\n",
              "      <td>1</td>\n",
              "      <td>Futrelle, Mrs. Jacques Heath (Lily May Peel)</td>\n",
              "      <td>female</td>\n",
              "      <td>35.0</td>\n",
              "      <td>1</td>\n",
              "      <td>0</td>\n",
              "      <td>113803</td>\n",
              "      <td>53.1000</td>\n",
              "      <td>C123</td>\n",
              "      <td>S</td>\n",
              "    </tr>\n",
              "    <tr>\n",
              "      <th>4</th>\n",
              "      <td>5</td>\n",
              "      <td>0</td>\n",
              "      <td>3</td>\n",
              "      <td>Allen, Mr. William Henry</td>\n",
              "      <td>male</td>\n",
              "      <td>35.0</td>\n",
              "      <td>0</td>\n",
              "      <td>0</td>\n",
              "      <td>373450</td>\n",
              "      <td>8.0500</td>\n",
              "      <td>NaN</td>\n",
              "      <td>S</td>\n",
              "    </tr>\n",
              "    <tr>\n",
              "      <th>...</th>\n",
              "      <td>...</td>\n",
              "      <td>...</td>\n",
              "      <td>...</td>\n",
              "      <td>...</td>\n",
              "      <td>...</td>\n",
              "      <td>...</td>\n",
              "      <td>...</td>\n",
              "      <td>...</td>\n",
              "      <td>...</td>\n",
              "      <td>...</td>\n",
              "      <td>...</td>\n",
              "      <td>...</td>\n",
              "    </tr>\n",
              "    <tr>\n",
              "      <th>886</th>\n",
              "      <td>887</td>\n",
              "      <td>0</td>\n",
              "      <td>2</td>\n",
              "      <td>Montvila, Rev. Juozas</td>\n",
              "      <td>male</td>\n",
              "      <td>27.0</td>\n",
              "      <td>0</td>\n",
              "      <td>0</td>\n",
              "      <td>211536</td>\n",
              "      <td>13.0000</td>\n",
              "      <td>NaN</td>\n",
              "      <td>S</td>\n",
              "    </tr>\n",
              "    <tr>\n",
              "      <th>887</th>\n",
              "      <td>888</td>\n",
              "      <td>1</td>\n",
              "      <td>1</td>\n",
              "      <td>Graham, Miss. Margaret Edith</td>\n",
              "      <td>female</td>\n",
              "      <td>19.0</td>\n",
              "      <td>0</td>\n",
              "      <td>0</td>\n",
              "      <td>112053</td>\n",
              "      <td>30.0000</td>\n",
              "      <td>B42</td>\n",
              "      <td>S</td>\n",
              "    </tr>\n",
              "    <tr>\n",
              "      <th>888</th>\n",
              "      <td>889</td>\n",
              "      <td>0</td>\n",
              "      <td>3</td>\n",
              "      <td>Johnston, Miss. Catherine Helen \"Carrie\"</td>\n",
              "      <td>female</td>\n",
              "      <td>NaN</td>\n",
              "      <td>1</td>\n",
              "      <td>2</td>\n",
              "      <td>W./C. 6607</td>\n",
              "      <td>23.4500</td>\n",
              "      <td>NaN</td>\n",
              "      <td>S</td>\n",
              "    </tr>\n",
              "    <tr>\n",
              "      <th>889</th>\n",
              "      <td>890</td>\n",
              "      <td>1</td>\n",
              "      <td>1</td>\n",
              "      <td>Behr, Mr. Karl Howell</td>\n",
              "      <td>male</td>\n",
              "      <td>26.0</td>\n",
              "      <td>0</td>\n",
              "      <td>0</td>\n",
              "      <td>111369</td>\n",
              "      <td>30.0000</td>\n",
              "      <td>C148</td>\n",
              "      <td>C</td>\n",
              "    </tr>\n",
              "    <tr>\n",
              "      <th>890</th>\n",
              "      <td>891</td>\n",
              "      <td>0</td>\n",
              "      <td>3</td>\n",
              "      <td>Dooley, Mr. Patrick</td>\n",
              "      <td>male</td>\n",
              "      <td>32.0</td>\n",
              "      <td>0</td>\n",
              "      <td>0</td>\n",
              "      <td>370376</td>\n",
              "      <td>7.7500</td>\n",
              "      <td>NaN</td>\n",
              "      <td>Q</td>\n",
              "    </tr>\n",
              "  </tbody>\n",
              "</table>\n",
              "<p>891 rows × 12 columns</p>\n",
              "</div>"
            ],
            "text/plain": [
              "     PassengerId  Survived  Pclass  \\\n",
              "0              1         0       3   \n",
              "1              2         1       1   \n",
              "2              3         1       3   \n",
              "3              4         1       1   \n",
              "4              5         0       3   \n",
              "..           ...       ...     ...   \n",
              "886          887         0       2   \n",
              "887          888         1       1   \n",
              "888          889         0       3   \n",
              "889          890         1       1   \n",
              "890          891         0       3   \n",
              "\n",
              "                                                  Name     Sex   Age  SibSp  \\\n",
              "0                              Braund, Mr. Owen Harris    male  22.0      1   \n",
              "1    Cumings, Mrs. John Bradley (Florence Briggs Th...  female  38.0      1   \n",
              "2                               Heikkinen, Miss. Laina  female  26.0      0   \n",
              "3         Futrelle, Mrs. Jacques Heath (Lily May Peel)  female  35.0      1   \n",
              "4                             Allen, Mr. William Henry    male  35.0      0   \n",
              "..                                                 ...     ...   ...    ...   \n",
              "886                              Montvila, Rev. Juozas    male  27.0      0   \n",
              "887                       Graham, Miss. Margaret Edith  female  19.0      0   \n",
              "888           Johnston, Miss. Catherine Helen \"Carrie\"  female   NaN      1   \n",
              "889                              Behr, Mr. Karl Howell    male  26.0      0   \n",
              "890                                Dooley, Mr. Patrick    male  32.0      0   \n",
              "\n",
              "     Parch            Ticket     Fare Cabin Embarked  \n",
              "0        0         A/5 21171   7.2500   NaN        S  \n",
              "1        0          PC 17599  71.2833   C85        C  \n",
              "2        0  STON/O2. 3101282   7.9250   NaN        S  \n",
              "3        0            113803  53.1000  C123        S  \n",
              "4        0            373450   8.0500   NaN        S  \n",
              "..     ...               ...      ...   ...      ...  \n",
              "886      0            211536  13.0000   NaN        S  \n",
              "887      0            112053  30.0000   B42        S  \n",
              "888      2        W./C. 6607  23.4500   NaN        S  \n",
              "889      0            111369  30.0000  C148        C  \n",
              "890      0            370376   7.7500   NaN        Q  \n",
              "\n",
              "[891 rows x 12 columns]"
            ]
          },
          "execution_count": 107,
          "metadata": {},
          "output_type": "execute_result"
        }
      ],
      "source": [
        "import pandas as pd # Tablo haline dönüştürdü.\n",
        "df = pd.read_csv(\"titanic.csv\")\n",
        "df "
      ]
    },
    {
      "cell_type": "code",
      "execution_count": null,
      "metadata": {
        "id": "dSNi4gSSfIgA",
        "outputId": "7f36b1b2-837a-45a8-91c9-90457f46ca97"
      },
      "outputs": [
        {
          "data": {
            "text/plain": [
              "male      577\n",
              "female    314\n",
              "Name: Sex, dtype: int64"
            ]
          },
          "execution_count": 102,
          "metadata": {},
          "output_type": "execute_result"
        }
      ],
      "source": [
        "df.Sex.value_counts(dropna=False)"
      ]
    },
    {
      "cell_type": "code",
      "execution_count": 109,
      "metadata": {
        "id": "uPx59x_xfIgA",
        "outputId": "c41d4c3e-4e4e-4479-e405-ecd5495dabda"
      },
      "outputs": [
        {
          "data": {
            "text/html": [
              "<div>\n",
              "<style scoped>\n",
              "    .dataframe tbody tr th:only-of-type {\n",
              "        vertical-align: middle;\n",
              "    }\n",
              "\n",
              "    .dataframe tbody tr th {\n",
              "        vertical-align: top;\n",
              "    }\n",
              "\n",
              "    .dataframe thead th {\n",
              "        text-align: right;\n",
              "    }\n",
              "</style>\n",
              "<table border=\"1\" class=\"dataframe\">\n",
              "  <thead>\n",
              "    <tr style=\"text-align: right;\">\n",
              "      <th></th>\n",
              "      <th>PassengerId</th>\n",
              "      <th>Survived</th>\n",
              "      <th>Pclass</th>\n",
              "      <th>Name</th>\n",
              "      <th>Sex</th>\n",
              "      <th>Age</th>\n",
              "      <th>SibSp</th>\n",
              "      <th>Parch</th>\n",
              "      <th>Ticket</th>\n",
              "      <th>Fare</th>\n",
              "      <th>Cabin</th>\n",
              "      <th>Embarked</th>\n",
              "    </tr>\n",
              "  </thead>\n",
              "  <tbody>\n",
              "    <tr>\n",
              "      <th>1</th>\n",
              "      <td>2</td>\n",
              "      <td>1</td>\n",
              "      <td>1</td>\n",
              "      <td>Cumings, Mrs. John Bradley (Florence Briggs Th...</td>\n",
              "      <td>female</td>\n",
              "      <td>38.0</td>\n",
              "      <td>1</td>\n",
              "      <td>0</td>\n",
              "      <td>PC 17599</td>\n",
              "      <td>71.2833</td>\n",
              "      <td>C85</td>\n",
              "      <td>C</td>\n",
              "    </tr>\n",
              "    <tr>\n",
              "      <th>2</th>\n",
              "      <td>3</td>\n",
              "      <td>1</td>\n",
              "      <td>3</td>\n",
              "      <td>Heikkinen, Miss. Laina</td>\n",
              "      <td>female</td>\n",
              "      <td>26.0</td>\n",
              "      <td>0</td>\n",
              "      <td>0</td>\n",
              "      <td>STON/O2. 3101282</td>\n",
              "      <td>7.9250</td>\n",
              "      <td>NaN</td>\n",
              "      <td>S</td>\n",
              "    </tr>\n",
              "    <tr>\n",
              "      <th>3</th>\n",
              "      <td>4</td>\n",
              "      <td>1</td>\n",
              "      <td>1</td>\n",
              "      <td>Futrelle, Mrs. Jacques Heath (Lily May Peel)</td>\n",
              "      <td>female</td>\n",
              "      <td>35.0</td>\n",
              "      <td>1</td>\n",
              "      <td>0</td>\n",
              "      <td>113803</td>\n",
              "      <td>53.1000</td>\n",
              "      <td>C123</td>\n",
              "      <td>S</td>\n",
              "    </tr>\n",
              "    <tr>\n",
              "      <th>8</th>\n",
              "      <td>9</td>\n",
              "      <td>1</td>\n",
              "      <td>3</td>\n",
              "      <td>Johnson, Mrs. Oscar W (Elisabeth Vilhelmina Berg)</td>\n",
              "      <td>female</td>\n",
              "      <td>27.0</td>\n",
              "      <td>0</td>\n",
              "      <td>2</td>\n",
              "      <td>347742</td>\n",
              "      <td>11.1333</td>\n",
              "      <td>NaN</td>\n",
              "      <td>S</td>\n",
              "    </tr>\n",
              "    <tr>\n",
              "      <th>9</th>\n",
              "      <td>10</td>\n",
              "      <td>1</td>\n",
              "      <td>2</td>\n",
              "      <td>Nasser, Mrs. Nicholas (Adele Achem)</td>\n",
              "      <td>female</td>\n",
              "      <td>14.0</td>\n",
              "      <td>1</td>\n",
              "      <td>0</td>\n",
              "      <td>237736</td>\n",
              "      <td>30.0708</td>\n",
              "      <td>NaN</td>\n",
              "      <td>C</td>\n",
              "    </tr>\n",
              "    <tr>\n",
              "      <th>...</th>\n",
              "      <td>...</td>\n",
              "      <td>...</td>\n",
              "      <td>...</td>\n",
              "      <td>...</td>\n",
              "      <td>...</td>\n",
              "      <td>...</td>\n",
              "      <td>...</td>\n",
              "      <td>...</td>\n",
              "      <td>...</td>\n",
              "      <td>...</td>\n",
              "      <td>...</td>\n",
              "      <td>...</td>\n",
              "    </tr>\n",
              "    <tr>\n",
              "      <th>880</th>\n",
              "      <td>881</td>\n",
              "      <td>1</td>\n",
              "      <td>2</td>\n",
              "      <td>Shelley, Mrs. William (Imanita Parrish Hall)</td>\n",
              "      <td>female</td>\n",
              "      <td>25.0</td>\n",
              "      <td>0</td>\n",
              "      <td>1</td>\n",
              "      <td>230433</td>\n",
              "      <td>26.0000</td>\n",
              "      <td>NaN</td>\n",
              "      <td>S</td>\n",
              "    </tr>\n",
              "    <tr>\n",
              "      <th>882</th>\n",
              "      <td>883</td>\n",
              "      <td>0</td>\n",
              "      <td>3</td>\n",
              "      <td>Dahlberg, Miss. Gerda Ulrika</td>\n",
              "      <td>female</td>\n",
              "      <td>22.0</td>\n",
              "      <td>0</td>\n",
              "      <td>0</td>\n",
              "      <td>7552</td>\n",
              "      <td>10.5167</td>\n",
              "      <td>NaN</td>\n",
              "      <td>S</td>\n",
              "    </tr>\n",
              "    <tr>\n",
              "      <th>885</th>\n",
              "      <td>886</td>\n",
              "      <td>0</td>\n",
              "      <td>3</td>\n",
              "      <td>Rice, Mrs. William (Margaret Norton)</td>\n",
              "      <td>female</td>\n",
              "      <td>39.0</td>\n",
              "      <td>0</td>\n",
              "      <td>5</td>\n",
              "      <td>382652</td>\n",
              "      <td>29.1250</td>\n",
              "      <td>NaN</td>\n",
              "      <td>Q</td>\n",
              "    </tr>\n",
              "    <tr>\n",
              "      <th>887</th>\n",
              "      <td>888</td>\n",
              "      <td>1</td>\n",
              "      <td>1</td>\n",
              "      <td>Graham, Miss. Margaret Edith</td>\n",
              "      <td>female</td>\n",
              "      <td>19.0</td>\n",
              "      <td>0</td>\n",
              "      <td>0</td>\n",
              "      <td>112053</td>\n",
              "      <td>30.0000</td>\n",
              "      <td>B42</td>\n",
              "      <td>S</td>\n",
              "    </tr>\n",
              "    <tr>\n",
              "      <th>888</th>\n",
              "      <td>889</td>\n",
              "      <td>0</td>\n",
              "      <td>3</td>\n",
              "      <td>Johnston, Miss. Catherine Helen \"Carrie\"</td>\n",
              "      <td>female</td>\n",
              "      <td>NaN</td>\n",
              "      <td>1</td>\n",
              "      <td>2</td>\n",
              "      <td>W./C. 6607</td>\n",
              "      <td>23.4500</td>\n",
              "      <td>NaN</td>\n",
              "      <td>S</td>\n",
              "    </tr>\n",
              "  </tbody>\n",
              "</table>\n",
              "<p>314 rows × 12 columns</p>\n",
              "</div>"
            ],
            "text/plain": [
              "     PassengerId  Survived  Pclass  \\\n",
              "1              2         1       1   \n",
              "2              3         1       3   \n",
              "3              4         1       1   \n",
              "8              9         1       3   \n",
              "9             10         1       2   \n",
              "..           ...       ...     ...   \n",
              "880          881         1       2   \n",
              "882          883         0       3   \n",
              "885          886         0       3   \n",
              "887          888         1       1   \n",
              "888          889         0       3   \n",
              "\n",
              "                                                  Name     Sex   Age  SibSp  \\\n",
              "1    Cumings, Mrs. John Bradley (Florence Briggs Th...  female  38.0      1   \n",
              "2                               Heikkinen, Miss. Laina  female  26.0      0   \n",
              "3         Futrelle, Mrs. Jacques Heath (Lily May Peel)  female  35.0      1   \n",
              "8    Johnson, Mrs. Oscar W (Elisabeth Vilhelmina Berg)  female  27.0      0   \n",
              "9                  Nasser, Mrs. Nicholas (Adele Achem)  female  14.0      1   \n",
              "..                                                 ...     ...   ...    ...   \n",
              "880       Shelley, Mrs. William (Imanita Parrish Hall)  female  25.0      0   \n",
              "882                       Dahlberg, Miss. Gerda Ulrika  female  22.0      0   \n",
              "885               Rice, Mrs. William (Margaret Norton)  female  39.0      0   \n",
              "887                       Graham, Miss. Margaret Edith  female  19.0      0   \n",
              "888           Johnston, Miss. Catherine Helen \"Carrie\"  female   NaN      1   \n",
              "\n",
              "     Parch            Ticket     Fare Cabin Embarked  \n",
              "1        0          PC 17599  71.2833   C85        C  \n",
              "2        0  STON/O2. 3101282   7.9250   NaN        S  \n",
              "3        0            113803  53.1000  C123        S  \n",
              "8        2            347742  11.1333   NaN        S  \n",
              "9        0            237736  30.0708   NaN        C  \n",
              "..     ...               ...      ...   ...      ...  \n",
              "880      1            230433  26.0000   NaN        S  \n",
              "882      0              7552  10.5167   NaN        S  \n",
              "885      5            382652  29.1250   NaN        Q  \n",
              "887      0            112053  30.0000   B42        S  \n",
              "888      2        W./C. 6607  23.4500   NaN        S  \n",
              "\n",
              "[314 rows x 12 columns]"
            ]
          },
          "execution_count": 109,
          "metadata": {},
          "output_type": "execute_result"
        }
      ],
      "source": [
        "bayanlar = df[df[\"Sex\"] == \"female\"]\n",
        "\n",
        "bayanlar"
      ]
    },
    {
      "cell_type": "code",
      "execution_count": 110,
      "metadata": {
        "id": "DnxYg6_yfIgA"
      },
      "outputs": [],
      "source": [
        "bayanlar.to_csv(\"titanic_bayanlar.csv\", index=False) # bayanlar isminde dosya oluşturdu."
      ]
    },
    {
      "cell_type": "code",
      "execution_count": 111,
      "metadata": {
        "id": "9mSCqrkpfIgB",
        "outputId": "cb987e99-6506-4098-e4c2-cd2c0f9bf116"
      },
      "outputs": [
        {
          "data": {
            "text/plain": [
              "Sex\n",
              "female    0.742038\n",
              "male      0.188908\n",
              "Name: Survived, dtype: float64"
            ]
          },
          "execution_count": 111,
          "metadata": {},
          "output_type": "execute_result"
        }
      ],
      "source": [
        "df.groupby(\"Sex\")[\"Survived\"].mean()"
      ]
    }
  ],
  "metadata": {
    "colab": {
      "name": "00_Files.ipynb",
      "provenance": []
    },
    "kernelspec": {
      "display_name": "Python 3.10.5 64-bit",
      "language": "python",
      "name": "python3"
    },
    "language_info": {
      "codemirror_mode": {
        "name": "ipython",
        "version": 3
      },
      "file_extension": ".py",
      "mimetype": "text/x-python",
      "name": "python",
      "nbconvert_exporter": "python",
      "pygments_lexer": "ipython3",
      "version": "3.10.5"
    },
    "vscode": {
      "interpreter": {
        "hash": "fb4569285eef3a3450cb62085a5b1e0da4bce0af555edc33dcf29baf3acc1368"
      }
    }
  },
  "nbformat": 4,
  "nbformat_minor": 0
}
