{
 "cells": [
  {
   "cell_type": "code",
   "execution_count": 2,
   "metadata": {},
   "outputs": [
    {
     "name": "stdout",
     "output_type": "stream",
     "text": [
      "Example:\n",
      "[{'name': 'wine', 'price': 138}, {'name': 'bread', 'price': 100}]\n",
      "Done! Looks like it is fine. Go and check it\n"
     ]
    }
   ],
   "source": [
    "def bigger_price(limit: int, data: list) -> list:\n",
    "    \"\"\"\n",
    "        TOP most expensive goods\n",
    "    \"\"\"\n",
    "    \n",
    "    return sorted(data, key=lambda x: x['price'], reverse=True)[:limit]\n",
    "\n",
    "\n",
    "if __name__ == '__main__':\n",
    "    from pprint import pprint\n",
    "    print('Example:')\n",
    "    pprint(bigger_price(2, [\n",
    "        {\"name\": \"bread\", \"price\": 100},\n",
    "        {\"name\": \"wine\", \"price\": 138},\n",
    "        {\"name\": \"meat\", \"price\": 15},\n",
    "        {\"name\": \"water\", \"price\": 1}\n",
    "    ]))\n",
    "\n",
    "    # These \"asserts\" using for self-checking and not for auto-testing\n",
    "    assert bigger_price(2, [\n",
    "        {\"name\": \"bread\", \"price\": 100},\n",
    "        {\"name\": \"wine\", \"price\": 138},\n",
    "        {\"name\": \"meat\", \"price\": 15},\n",
    "        {\"name\": \"water\", \"price\": 1}\n",
    "    ]) == [\n",
    "        {\"name\": \"wine\", \"price\": 138},\n",
    "        {\"name\": \"bread\", \"price\": 100}\n",
    "    ], \"First\"\n",
    "\n",
    "    assert bigger_price(1, [\n",
    "        {\"name\": \"pen\", \"price\": 5},\n",
    "        {\"name\": \"whiteboard\", \"price\": 170}\n",
    "    ]) == [{\"name\": \"whiteboard\", \"price\": 170}], \"Second\"\n",
    "\n",
    "    print('Done! Looks like it is fine. Go and check it')"
   ]
  },
  {
   "cell_type": "code",
   "execution_count": null,
   "metadata": {},
   "outputs": [],
   "source": [
    "def between_markers(text: str, begin: str, end: str) -> str:\n",
    "    \"\"\"\n",
    "        returns substring between two given markers\n",
    "    \"\"\"\n",
    "    b = text.index(begin)+len(begin) if begin in text else 0\n",
    "    e = text.index(end) if end in text else len(text)\n",
    "    \n",
    "    return text[b:e]\n",
    "    # lambdalı cözüm return etiyor..\n",
    "    # between_markers = lambda text, begin, end: text[text.index(begin)+len(begin) if begin in text else 0: text.index(end) if end in text else len(text)]\n",
    "\n",
    "    \n",
    "\n",
    "if __name__ == '__main__':\n",
    "    print('Example:')\n",
    "    print(between_markers('What is >apple<', '>', '<'))\n",
    "\n",
    "    # These \"asserts\" are used for self-checking and not for testing\n",
    "    assert between_markers('What is >apple<', '>', '<') == \"apple\", \"One sym\"\n",
    "    assert between_markers(\"<head><title>My new site</title></head>\",\n",
    "                           \"<title>\", \"</title>\") == \"My new site\", \"HTML\"\n",
    "    assert between_markers('No[/b] hi', '[b]', '[/b]') == 'No', 'No opened'\n",
    "    assert between_markers('No [b]hi', '[b]', '[/b]') == 'hi', 'No close'\n",
    "    assert between_markers('No hi', '[b]', '[/b]') == 'No hi', 'No markers at all'\n",
    "    assert between_markers('No <hi>', '>', '<') == '', 'Wrong direction'\n",
    "    print('Wow, you are doing pretty good. Time to check it!')"
   ]
  },
  {
   "cell_type": "code",
   "execution_count": 4,
   "metadata": {},
   "outputs": [
    {
     "name": "stdout",
     "output_type": "stream",
     "text": [
      "Example:\n",
      "{'i': 4, 'was': 3, 'three': 0, 'near': 0}\n",
      "Coding complete? Click 'Check' to earn cool rewards!\n"
     ]
    }
   ],
   "source": [
    "def popular_words(text: str, words: list) -> dict:\n",
    "    \n",
    "    counter = {i:0 for i in words}\n",
    "    \n",
    "    for j in text.lower().split():\n",
    "        if j in counter:     \n",
    "            counter[j] +=1\n",
    "\n",
    "    return counter\n",
    "\n",
    "# farklı çözüm;\n",
    "    # lower_count = text.lower().split().count\n",
    "    # return {word: lower_count(word) for word in words}\n",
    "\n",
    "\n",
    "if __name__ == '__main__':\n",
    "    print(\"Example:\")\n",
    "    print(popular_words('''\n",
    "When I was One\n",
    "I had just begun\n",
    "When I was Two\n",
    "I was nearly new\n",
    "''', ['i', 'was', 'three', 'near']))\n",
    "\n",
    "    # These \"asserts\" are used for self-checking and not for an auto-testing\n",
    "    assert popular_words('''\n",
    "When I was One\n",
    "I had just begun\n",
    "When I was Two\n",
    "I was nearly new\n",
    "''', ['i', 'was', 'three', 'near']) == {\n",
    "        'i': 4,\n",
    "        'was': 3,\n",
    "        'three': 0,\n",
    "        'near': 0\n",
    "    }\n",
    "    print(\"Coding complete? Click 'Check' to earn cool rewards!\")\n"
   ]
  },
  {
   "cell_type": "code",
   "execution_count": 22,
   "metadata": {},
   "outputs": [
    {
     "name": "stdout",
     "output_type": "stream",
     "text": [
      "Example:\n",
      "3\n",
      "You are awesome! All tests are done! Go Check it!\n"
     ]
    }
   ],
   "source": [
    "def second_index(text: str, symbol: str) -> [int, None]:\n",
    "    \"\"\"\n",
    "        returns the second index of a symbol in a given text\n",
    "    \"\"\"\n",
    "    # for i in text:\n",
    "    #     if text.count(symbol) == 1:\n",
    "    #         return None\n",
    "    #     elif i  == symbol:\n",
    "    #         return text.index(i, text.index(symbol)+1)\n",
    "\n",
    "\n",
    "    try:\n",
    "        return text.index(symbol, text.index(symbol) + 1)\n",
    "    except ValueError:\n",
    "        return None\n",
    "\n",
    "\n",
    "if __name__ == '__main__':\n",
    "    print('Example:')\n",
    "    print(second_index(\"sims\", \"s\"))\n",
    "\n",
    "    # These \"asserts\" are used for self-checking and not for an auto-testing\n",
    "    assert second_index(\"sims\", \"s\") == 3, \"First\"\n",
    "    assert second_index(\"find the river\", \"e\") == 12, \"Second\"\n",
    "    assert second_index(\"hi\", \" \") is None, \"Third\"\n",
    "    assert second_index(\"hi mayor\", \" \") is None, \"Fourth\"\n",
    "    assert second_index(\"hi mr Mayor\", \" \") == 5, \"Fifth\"\n",
    "    print('You are awesome! All tests are done! Go Check it!')"
   ]
  },
  {
   "cell_type": "code",
   "execution_count": 16,
   "metadata": {},
   "outputs": [
    {
     "name": "stdout",
     "output_type": "stream",
     "text": [
      "3\n",
      "None\n"
     ]
    }
   ],
   "source": [
    "def second_index(text: str, symbol: str) -> [int, None]:\n",
    "    for i in text:\n",
    "        if text.count(symbol) == 1:\n",
    "            return None\n",
    "        elif i  == symbol:\n",
    "            return text.index(i, text.index(symbol)+1)\n",
    "\n",
    "print(second_index(\"sims\", \"s\"))\n",
    "second_index(\"find the river\", \"e\")\n",
    "second_index(\"hi mr Mayor\", \" \")\n",
    "print(second_index(\"hi mayor\", \" \"))"
   ]
  },
  {
   "cell_type": "code",
   "execution_count": 19,
   "metadata": {},
   "outputs": [
    {
     "name": "stdout",
     "output_type": "stream",
     "text": [
      "Example:\n",
      "[-5, 10, 15, -20]\n",
      "Coding complete? Click 'Check' to earn cool rewards!\n"
     ]
    }
   ],
   "source": [
    "def checkio(values: list) -> list:\n",
    "    \n",
    "    return sorted(values, key=abs)\n",
    "\n",
    "\n",
    "if __name__ == '__main__':\n",
    "    print(\"Example:\")\n",
    "    print(checkio([-20, -5, 10, 15]))\n",
    "\n",
    "    # These \"asserts\" are used for self-checking and not for an auto-testing\n",
    "    assert checkio([-20, -5, 10, 15]) == [-5, 10, 15, -20]\n",
    "    assert checkio([1, 2, 3, 0]) == [0, 1, 2, 3]\n",
    "    assert checkio([-1, -2, -3, 0]) == [0, -1, -2, -3]\n",
    "    print(\"Coding complete? Click 'Check' to earn cool rewards!\")"
   ]
  },
  {
   "cell_type": "code",
   "execution_count": 41,
   "metadata": {},
   "outputs": [
    {
     "name": "stdout",
     "output_type": "stream",
     "text": [
      "Example:\n",
      "True\n",
      "Coding complete? Click 'Check' to earn cool rewards!\n"
     ]
    }
   ],
   "source": [
    "def goes_after(word: str, first: str, second: str) -> bool:\n",
    "    # your code here\n",
    "    try :\n",
    "       return word[word.index(first)+1]  == second\n",
    "    except:\n",
    "        return False\n",
    "    # Yukardaki çözümü sistem kabul etmiyor. Farklı çözüm.\n",
    "    # return 0<word.find(second)==word.find(first)+1\n",
    "\n",
    "\n",
    "if __name__ == \"__main__\":\n",
    "    print(\"Example:\")\n",
    "    print(goes_after(\"world\", \"w\", \"o\"))\n",
    "\n",
    "    # These \"asserts\" are used for self-checking and not for an auto-testing\n",
    "    assert goes_after(\"world\", \"w\", \"o\") == True\n",
    "    assert goes_after(\"world\", \"w\", \"r\") == False\n",
    "    assert goes_after(\"world\", \"l\", \"o\") == False\n",
    "    assert goes_after(\"panorama\", \"a\", \"n\") == True\n",
    "    assert goes_after(\"list\", \"l\", \"o\") == False\n",
    "    assert goes_after(\"\", \"l\", \"o\") == False\n",
    "    assert goes_after(\"list\", \"l\", \"l\") == False\n",
    "    assert goes_after(\"world\", \"d\", \"w\") == False\n",
    "    assert goes_after(\"transport\", \"r\", \"t\") == False\n",
    "    print(\"Coding complete? Click 'Check' to earn cool rewards!\")"
   ]
  },
  {
   "cell_type": "code",
   "execution_count": 34,
   "metadata": {},
   "outputs": [
    {
     "name": "stdout",
     "output_type": "stream",
     "text": [
      "Example:\n",
      "[4, 4, 4, 4, 6, 6, 2, 2]\n",
      "Coding complete? Click 'Check' to earn cool rewards!\n"
     ]
    }
   ],
   "source": [
    "def frequency_sort(items):\n",
    "    return sorted(items, key=lambda x: (-items.count(x), items.index(x)))\n",
    "\n",
    "\n",
    "if __name__ == '__main__':\n",
    "    print(\"Example:\")\n",
    "    print(frequency_sort([4, 6, 2, 2, 6, 4, 4, 4]))\n",
    "\n",
    "    # These \"asserts\" are used for self-checking and not for an auto-testing\n",
    "    assert list(frequency_sort([4, 6, 2, 2, 6, 4, 4, 4])) == [4, 4, 4, 4, 6, 6, 2, 2]\n",
    "    assert list(frequency_sort(['bob', 'bob', 'carl', 'alex', 'bob'])) == ['bob', 'bob', 'bob', 'carl', 'alex']\n",
    "    assert list(frequency_sort([17, 99, 42])) == [17, 99, 42]\n",
    "    assert list(frequency_sort([])) == []\n",
    "    assert list(frequency_sort([1])) == [1]\n",
    "    print(\"Coding complete? Click 'Check' to earn cool rewards!\")"
   ]
  },
  {
   "cell_type": "code",
   "execution_count": 32,
   "metadata": {},
   "outputs": [
    {
     "data": {
      "text/plain": [
       "(-4, 0)"
      ]
     },
     "execution_count": 32,
     "metadata": {},
     "output_type": "execute_result"
    }
   ],
   "source": [
    "items = [4, 6, 2, 2, 6, 4, 4, 4]\n",
    "(-items.count(4), items.index(4))"
   ]
  }
 ],
 "metadata": {
  "kernelspec": {
   "display_name": "Python 3.10.5 64-bit",
   "language": "python",
   "name": "python3"
  },
  "language_info": {
   "codemirror_mode": {
    "name": "ipython",
    "version": 3
   },
   "file_extension": ".py",
   "mimetype": "text/x-python",
   "name": "python",
   "nbconvert_exporter": "python",
   "pygments_lexer": "ipython3",
   "version": "3.10.5"
  },
  "orig_nbformat": 4,
  "vscode": {
   "interpreter": {
    "hash": "fb4569285eef3a3450cb62085a5b1e0da4bce0af555edc33dcf29baf3acc1368"
   }
  }
 },
 "nbformat": 4,
 "nbformat_minor": 2
}
