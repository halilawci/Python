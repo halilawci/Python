{
  "nbformat": 4,
  "nbformat_minor": 0,
  "metadata": {
    "colab": {
      "name": "Num_Different.ipynb",
      "provenance": []
    },
    "kernelspec": {
      "name": "python3",
      "display_name": "Python 3"
    },
    "language_info": {
      "name": "python"
    }
  },
  "cells": [
    {
      "cell_type": "markdown",
      "source": [
        "Send two different positive integer numbers to the function you will create. Let him subtract the larger one from the smaller one. If the numbers are equal or negative, ask for input again."
      ],
      "metadata": {
        "id": "xcJgUZLO_63Q"
      }
    },
    {
      "cell_type": "code",
      "source": [
        "def diff(x,y):\n",
        "    while x<0 or y<0 or x==y:\n",
        "        x=int(input())\n",
        "        y=int(input())\n",
        "    return abs(x-y)\n",
        "\n",
        "print(diff(int(input()), int(input())))\n"
      ],
      "metadata": {
        "id": "BcOwOrSWJIHZ"
      },
      "execution_count": null,
      "outputs": []
    }
  ]
}