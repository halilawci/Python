{
  "nbformat": 4,
  "nbformat_minor": 0,
  "metadata": {
    "colab": {
      "name": "Şifre Programı.ipynb",
      "provenance": [],
      "collapsed_sections": []
    },
    "kernelspec": {
      "name": "python3",
      "display_name": "Python 3"
    },
    "language_info": {
      "name": "python"
    }
  },
  "cells": [
    {
      "cell_type": "code",
      "execution_count": 3,
      "metadata": {
        "colab": {
          "base_uri": "https://localhost:8080/"
        },
        "id": "ZwpBXVd51OGb",
        "outputId": "d770f66e-baca-4dbc-992f-fe9f44d7d05c"
      },
      "outputs": [
        {
          "output_type": "stream",
          "name": "stdout",
          "text": [
            "0;5Svdb!5VT\n"
          ]
        }
      ],
      "source": [
        "# Rastgele şifre üretme\n",
        "import random\n",
        "chr(random.randint(97, 122)) # KÜÇÜK HARF\n",
        "chr(random.randint(65, 90))  # BÜYÜK HARF\n",
        "chr(random.randint(48, 57)) # RAKAM\n",
        "chr(random.randint(33, 47))  # ÖZEL KARAKTER1\n",
        "chr(random.randint(58, 64))  # ÖZEL KARAKTER 2\n",
        "uppers = [chr(random.randint(65, 90)) for i in range(3)]\n",
        "lowers = [chr(random.randint(97, 122)) for i in range(3)]\n",
        "numbers = [chr(random.randint(48, 57)) for i in range(3)]\n",
        "chars = chr(random.randint(33, 47)) + chr(random.randint(58, 64))\n",
        "passw = \"\".join(uppers) + \"\".join(lowers) + \"\".join(numbers) + chars\n",
        "def karıştır(password) :\n",
        "    templist = list(password)\n",
        "    random.shuffle(templist)\n",
        "    return \"\".join(templist)\n",
        "print(karıştır(passw))"
      ]
    }
  ]
}