{
  "cells": [
    {
      "cell_type": "markdown",
      "metadata": {
        "id": "nc2032e7RJky"
      },
      "source": [
        "Question : You started working in the IT department of a language school. The management decided to create a licensed English-Turkish dictionary and this task was given to you. During the development of the program, you want the software to have the following features in order to avoid faster and repetitive data entries and to complete the project on time:\n",
        "\n",
        "when a word is entered into the dictionary to be created;\n",
        "if the word is not found in the dictionary \"This word is not in our database!\" give a warning and enable login,\n",
        "if the word is in the dictionary 'This word is in the database.' to print.\n",
        "In order to complete the project on time, you must enter 500 words per day. You want it to give a warning.\n",
        "All entries in the dictionary will be in lowercase letters."
      ]
    },
    {
      "cell_type": "code",
      "execution_count": null,
      "metadata": {
        "id": "5HuWWDFseU9V"
      },
      "outputs": [],
      "source": [
        "ing_dict = {'blue':'mavi'}\n",
        "count = 0\n",
        "while count < 2:\n",
        "  query = input('Lütfen sorgulayacağınız kelimeyi giriniz. ').lower()\n",
        "  if query not in ing_dict:\n",
        "    print('Bu kelime veri tabanında yoktur. Lütfen veri tabanına giriniz.')\n",
        "    trans = input(f'Lütfen {query} kelimenin anlamını giriniz.').lower()\n",
        "    ing_dict.update({query : trans})\n",
        "    count += 1\n",
        "    print(query, trans)\n",
        "  else:\n",
        "    print(query, 'kelimesi veri tabanında bulunmaktadır.')\n",
        "print('Tebrikler! Bugünkü hedefinizi tamamladınız')\n",
        "\n",
        "# Course"
      ]
    }
  ],
  "metadata": {
    "colab": {
      "collapsed_sections": [],
      "name": "English-Turkish_Dict.ipynb",
      "provenance": []
    },
    "kernelspec": {
      "display_name": "Python 3.10.5 64-bit",
      "language": "python",
      "name": "python3"
    },
    "language_info": {
      "name": "python",
      "version": "3.10.5"
    },
    "vscode": {
      "interpreter": {
        "hash": "fb4569285eef3a3450cb62085a5b1e0da4bce0af555edc33dcf29baf3acc1368"
      }
    }
  },
  "nbformat": 4,
  "nbformat_minor": 0
}
