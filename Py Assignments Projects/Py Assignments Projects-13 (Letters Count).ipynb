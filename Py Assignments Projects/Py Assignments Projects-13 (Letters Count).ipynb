{
 "cells": [
  {
   "cell_type": "markdown",
   "metadata": {},
   "source": [
    "# Assignment PYB-13 (Letters Count)\n",
    "\n",
    "Task: Count the number of each letter in a sentence.\n",
    "\n",
    "• The department you work for undertook a project construction that makes word / text analysis. You are asked to calculate the number of letters or any chars in the sentences entered under this project.\n",
    "\n",
    "• Write a Python program that;\n",
    "\n",
    "1. takes a sentence from the user,\n",
    "\n",
    "2. counts the number of each letter/chars of the sentence,\n",
    "\n",
    "3. collects the letters/chars as a key and the counted numbers as a value in a dictionary.\n",
    "\n",
    "Examples\n",
    "\n",
    "Sample inputs:\n",
    "\n",
    "hippo runs to us!\n",
    "\n",
    "Outputs:\n",
    "\n",
    " { 's':2, 'r':1, 't':1, 'h':1, 'n':1, 'i':1, 'u':2, ', 'o':2, 'p':1, ' ':3, '!':1}"
   ]
  },
  {
   "cell_type": "markdown",
   "metadata": {},
   "source": []
  },
  {
   "cell_type": "code",
   "execution_count": 1,
   "metadata": {},
   "outputs": [
    {
     "data": {
      "text/plain": [
       "{1: '1', 2: '2'}"
      ]
     },
     "execution_count": 1,
     "metadata": {},
     "output_type": "execute_result"
    }
   ],
   "source": [
    "word = {1 : \"1\", 2 : \"2\"}\n",
    "word       "
   ]
  },
  {
   "cell_type": "code",
   "execution_count": 2,
   "metadata": {},
   "outputs": [
    {
     "data": {
      "text/plain": [
       "dict_keys([1, 2])"
      ]
     },
     "execution_count": 2,
     "metadata": {},
     "output_type": "execute_result"
    }
   ],
   "source": [
    "keys = word.keys()\n",
    "keys"
   ]
  },
  {
   "cell_type": "code",
   "execution_count": 3,
   "metadata": {},
   "outputs": [
    {
     "data": {
      "text/plain": [
       "dict_keys([1, 2])"
      ]
     },
     "execution_count": 3,
     "metadata": {},
     "output_type": "execute_result"
    }
   ],
   "source": [
    "values = word.keys()\n",
    "values"
   ]
  },
  {
   "cell_type": "code",
   "execution_count": 5,
   "metadata": {},
   "outputs": [],
   "source": [
    "tatlilar = {\n",
    "    \"Ice cream\": 30,\n",
    "    \"Brownies\": 40,\n",
    "    \"Cheesecake\": 15,\n",
    "    \"Swiss roll\": 25,\n",
    "    \"Cookies\": 12,\n",
    "    \"Cup cake\": 10\n",
    " }"
   ]
  },
  {
   "cell_type": "code",
   "execution_count": 6,
   "metadata": {},
   "outputs": [
    {
     "name": "stdout",
     "output_type": "stream",
     "text": [
      "dict_keys(['Ice cream', 'Brownies', 'Cheesecake', 'Swiss roll', 'Cookies', 'Cup cake'])\n"
     ]
    }
   ],
   "source": [
    "keys = tatlilar.keys ()\n",
    "print(keys)"
   ]
  },
  {
   "cell_type": "code",
   "execution_count": 8,
   "metadata": {},
   "outputs": [
    {
     "name": "stdout",
     "output_type": "stream",
     "text": [
      "['Brownies', 'Cheesecake', 'Cookies', 'Cup cake', 'Ice cream', 'Swiss roll']\n"
     ]
    }
   ],
   "source": [
    "sorted_keys = sorted (keys)\n",
    "\n",
    "print(sorted_keys)"
   ]
  },
  {
   "cell_type": "code",
   "execution_count": 9,
   "metadata": {},
   "outputs": [],
   "source": [
    "sorted_tatlilar = {}\n",
    "\n",
    "for key in sorted_keys :\n",
    "    sorted_tatlilar [key] = tatlilar [key]"
   ]
  },
  {
   "cell_type": "code",
   "execution_count": null,
   "metadata": {},
   "outputs": [],
   "source": [
    "dict[\"key\"] = value"
   ]
  },
  {
   "cell_type": "code",
   "execution_count": 12,
   "metadata": {},
   "outputs": [
    {
     "data": {
      "text/plain": [
       "dict['key']"
      ]
     },
     "execution_count": 12,
     "metadata": {},
     "output_type": "execute_result"
    }
   ],
   "source": [
    "dict[\"key\"]"
   ]
  },
  {
   "cell_type": "code",
   "execution_count": 11,
   "metadata": {},
   "outputs": [
    {
     "name": "stdout",
     "output_type": "stream",
     "text": [
      "{'Brownies': 40, 'Cheesecake': 15, 'Cookies': 12, 'Cup cake': 10, 'Ice cream': 30, 'Swiss roll': 25}\n"
     ]
    }
   ],
   "source": [
    "print (sorted_tatlilar)"
   ]
  },
  {
   "cell_type": "code",
   "execution_count": null,
   "metadata": {},
   "outputs": [],
   "source": [
    "new_dict = {key:value for key in <iterable>}"
   ]
  },
  {
   "cell_type": "code",
   "execution_count": 20,
   "metadata": {},
   "outputs": [
    {
     "name": "stdout",
     "output_type": "stream",
     "text": [
      "{'Brownies': 40, 'Cheesecake': 15, 'Cookies': 12, 'Cup cake': 10, 'Ice cream': 30, 'Swiss roll': 25}\n"
     ]
    }
   ],
   "source": [
    "sorted_tatlilar = {key:tatlilar[key] for key in sorted_keys}\n",
    "\n",
    "print (sorted_tatlilar)"
   ]
  },
  {
   "cell_type": "code",
   "execution_count": 17,
   "metadata": {},
   "outputs": [
    {
     "data": {
      "text/plain": [
       "dict_items([('Ice cream', 30), ('Brownies', 40), ('Cheesecake', 15), ('Swiss roll', 25), ('Cookies', 12), ('Cup cake', 10)])"
      ]
     },
     "execution_count": 17,
     "metadata": {},
     "output_type": "execute_result"
    }
   ],
   "source": [
    "tatlilar.items ( )"
   ]
  },
  {
   "cell_type": "code",
   "execution_count": 21,
   "metadata": {},
   "outputs": [
    {
     "name": "stdout",
     "output_type": "stream",
     "text": [
      "key: Ice cream, value : 30\n",
      "key: Brownies, value : 40\n",
      "key: Cheesecake, value : 15\n",
      "key: Swiss roll, value : 25\n",
      "key: Cookies, value : 12\n",
      "key: Cup cake, value : 10\n"
     ]
    }
   ],
   "source": [
    "dict_items = tatlilar.items ()\n",
    "\n",
    "for item in dict_items:\n",
    "    print (f\"key: {item[0]}, value : {item[1]}\")"
   ]
  },
  {
   "cell_type": "code",
   "execution_count": 23,
   "metadata": {},
   "outputs": [
    {
     "data": {
      "text/plain": [
       "[('Brownies', 40),\n",
       " ('Cheesecake', 15),\n",
       " ('Cookies', 12),\n",
       " ('Cup cake', 10),\n",
       " ('Ice cream', 30),\n",
       " ('Swiss roll', 25)]"
      ]
     },
     "execution_count": 23,
     "metadata": {},
     "output_type": "execute_result"
    }
   ],
   "source": [
    "sorted_dict_list = sorted(tatlilar.items ())\n",
    "sorted_dict_list"
   ]
  },
  {
   "cell_type": "code",
   "execution_count": 24,
   "metadata": {},
   "outputs": [
    {
     "name": "stdout",
     "output_type": "stream",
     "text": [
      "40\n",
      "15\n",
      "12\n",
      "10\n",
      "30\n",
      "25\n"
     ]
    }
   ],
   "source": [
    "key = lambda item: item [1]\n",
    "\n",
    "print(key(sorted_dict_list[0]))\n",
    "print(key(sorted_dict_list[1]))\n",
    "print(key(sorted_dict_list[2]))\n",
    "print(key(sorted_dict_list[3]))\n",
    "print(key(sorted_dict_list[4]))\n",
    "print(key(sorted_dict_list[5]))"
   ]
  },
  {
   "cell_type": "code",
   "execution_count": 25,
   "metadata": {},
   "outputs": [
    {
     "data": {
      "text/plain": [
       "[('Cup cake', 10),\n",
       " ('Cookies', 12),\n",
       " ('Cheesecake', 15),\n",
       " ('Swiss roll', 25),\n",
       " ('Ice cream', 30),\n",
       " ('Brownies', 40)]"
      ]
     },
     "execution_count": 25,
     "metadata": {},
     "output_type": "execute_result"
    }
   ],
   "source": [
    "sorted(tatlilar.items (), key = lambda item:item [1])"
   ]
  },
  {
   "cell_type": "code",
   "execution_count": 26,
   "metadata": {},
   "outputs": [
    {
     "data": {
      "text/plain": [
       "{'Cup cake': 10,\n",
       " 'Cookies': 12,\n",
       " 'Cheesecake': 15,\n",
       " 'Swiss roll': 25,\n",
       " 'Ice cream': 30,\n",
       " 'Brownies': 40}"
      ]
     },
     "execution_count": 26,
     "metadata": {},
     "output_type": "execute_result"
    }
   ],
   "source": [
    "tatlilar = dict(sorted(tatlilar.items (), key = lambda item:item [1]))\n",
    "\n",
    "tatlilar"
   ]
  },
  {
   "cell_type": "code",
   "execution_count": 27,
   "metadata": {},
   "outputs": [],
   "source": [
    "wordd = {}"
   ]
  },
  {
   "cell_type": "code",
   "execution_count": 30,
   "metadata": {},
   "outputs": [],
   "source": [
    "wordd [\"e\"] = 1"
   ]
  },
  {
   "cell_type": "code",
   "execution_count": 31,
   "metadata": {},
   "outputs": [
    {
     "data": {
      "text/plain": [
       "{'e': 1}"
      ]
     },
     "execution_count": 31,
     "metadata": {},
     "output_type": "execute_result"
    }
   ],
   "source": [
    "wordd"
   ]
  },
  {
   "cell_type": "code",
   "execution_count": 32,
   "metadata": {},
   "outputs": [],
   "source": [
    "wordd [\"d\"] = 1"
   ]
  },
  {
   "cell_type": "code",
   "execution_count": 33,
   "metadata": {},
   "outputs": [
    {
     "data": {
      "text/plain": [
       "{'e': 1, 'd': 1}"
      ]
     },
     "execution_count": 33,
     "metadata": {},
     "output_type": "execute_result"
    }
   ],
   "source": [
    "wordd"
   ]
  },
  {
   "cell_type": "code",
   "execution_count": 34,
   "metadata": {},
   "outputs": [],
   "source": [
    "wordd [\"c\"] = 1"
   ]
  },
  {
   "cell_type": "code",
   "execution_count": 35,
   "metadata": {},
   "outputs": [
    {
     "data": {
      "text/plain": [
       "{'e': 1, 'd': 1, 'c': 1}"
      ]
     },
     "execution_count": 35,
     "metadata": {},
     "output_type": "execute_result"
    }
   ],
   "source": [
    "wordd"
   ]
  },
  {
   "cell_type": "code",
   "execution_count": 38,
   "metadata": {},
   "outputs": [
    {
     "data": {
      "text/plain": [
       "{'e': 1, 'd': 1, 'c': 4}"
      ]
     },
     "execution_count": 38,
     "metadata": {},
     "output_type": "execute_result"
    }
   ],
   "source": [
    "wordd [\"c\"] = wordd [\"c\"] + 1\n",
    "\n",
    "wordd"
   ]
  },
  {
   "cell_type": "code",
   "execution_count": 39,
   "metadata": {},
   "outputs": [
    {
     "data": {
      "text/plain": [
       "True"
      ]
     },
     "execution_count": 39,
     "metadata": {},
     "output_type": "execute_result"
    }
   ],
   "source": [
    "\"c\" in wordd"
   ]
  },
  {
   "cell_type": "code",
   "execution_count": 40,
   "metadata": {},
   "outputs": [
    {
     "data": {
      "text/plain": [
       "False"
      ]
     },
     "execution_count": 40,
     "metadata": {},
     "output_type": "execute_result"
    }
   ],
   "source": [
    "\"f\" in wordd"
   ]
  },
  {
   "cell_type": "code",
   "execution_count": 44,
   "metadata": {},
   "outputs": [
    {
     "name": "stdout",
     "output_type": "stream",
     "text": [
      "{'b': 4, 'u': 2, 'g': 3, 'ü': 7, 'n': 6, ' ': 10, 'c': 2, 'o': 4, 'k': 5, 'h': 1, 'z': 4, 'l': 3, 'y': 3, 'm': 2, '.': 5, 'a': 6, 'r': 3, 'i': 7, 's': 4, 'e': 4, 'd': 1}\n"
     ]
    }
   ],
   "source": [
    "string = \"bugün cok hüzünlüyüm. ayrilik yakin. bugünkü sessionimizda son kez beraber olacagiz...\"\n",
    "\n",
    "word_dict = {}\n",
    "\n",
    "for n in string :\n",
    "    \n",
    "    if n in word_dict:\n",
    "        word_dict[n] += 1\n",
    "        \n",
    "    else :\n",
    "        word_dict[n] = 1\n",
    "        \n",
    "print(word_dict)"
   ]
  },
  {
   "cell_type": "code",
   "execution_count": 45,
   "metadata": {},
   "outputs": [],
   "source": [
    "veri = [\"a\", \"b\", True, (False, 1), {\"1\" : 2}, [1, 2], {\"2\" : \"two\"}, {\"2\", \"3\"}, \"c\", 23, 0]"
   ]
  },
  {
   "cell_type": "code",
   "execution_count": 47,
   "metadata": {},
   "outputs": [],
   "source": [
    "tipler = [\"int\", \"str\", \"bool\", \"list\", \"tuple\", \"dict\", \"set\"]"
   ]
  },
  {
   "cell_type": "code",
   "execution_count": 49,
   "metadata": {},
   "outputs": [
    {
     "data": {
      "text/plain": [
       "{'bool': 1, 'int': 2, 'list': 1, 'tuple': 1, 'str': 3, 'dict': 2}"
      ]
     },
     "execution_count": 49,
     "metadata": {},
     "output_type": "execute_result"
    }
   ],
   "source": [
    "{\"bool\" : 1, \"int\" : 2, \"list\":1, \"tuple\" : 1, \"str\" : 3, \"dict\" : 2}"
   ]
  },
  {
   "cell_type": "code",
   "execution_count": 50,
   "metadata": {},
   "outputs": [
    {
     "data": {
      "text/plain": [
       "{'int': None,\n",
       " 'str': None,\n",
       " 'bool': None,\n",
       " 'list': None,\n",
       " 'tuple': None,\n",
       " 'dict': None,\n",
       " 'set': None}"
      ]
     },
     "execution_count": 50,
     "metadata": {},
     "output_type": "execute_result"
    }
   ],
   "source": [
    "{}.fromkeys (tipler)"
   ]
  },
  {
   "cell_type": "code",
   "execution_count": 51,
   "metadata": {},
   "outputs": [
    {
     "data": {
      "text/plain": [
       "{'int': 0, 'str': 0, 'bool': 0, 'list': 0, 'tuple': 0, 'dict': 0, 'set': 0}"
      ]
     },
     "execution_count": 51,
     "metadata": {},
     "output_type": "execute_result"
    }
   ],
   "source": [
    "{}.fromkeys (tipler, 0)"
   ]
  },
  {
   "cell_type": "code",
   "execution_count": 52,
   "metadata": {},
   "outputs": [
    {
     "name": "stdout",
     "output_type": "stream",
     "text": [
      "['a', 'b', True, (False, 1), {'1': 2}, [1, 2], {'2': 'two'}, {'3', '2'}, 'c', 23, 0]\n"
     ]
    }
   ],
   "source": [
    "print(veri)"
   ]
  },
  {
   "cell_type": "code",
   "execution_count": 53,
   "metadata": {},
   "outputs": [
    {
     "data": {
      "text/plain": [
       "11"
      ]
     },
     "execution_count": 53,
     "metadata": {},
     "output_type": "execute_result"
    }
   ],
   "source": [
    "len(veri)"
   ]
  },
  {
   "cell_type": "code",
   "execution_count": 55,
   "metadata": {},
   "outputs": [
    {
     "data": {
      "text/plain": [
       "str"
      ]
     },
     "execution_count": 55,
     "metadata": {},
     "output_type": "execute_result"
    }
   ],
   "source": [
    "type(veri[0])"
   ]
  },
  {
   "cell_type": "code",
   "execution_count": 56,
   "metadata": {},
   "outputs": [
    {
     "data": {
      "text/plain": [
       "list"
      ]
     },
     "execution_count": 56,
     "metadata": {},
     "output_type": "execute_result"
    }
   ],
   "source": [
    "type(veri[5])"
   ]
  },
  {
   "cell_type": "code",
   "execution_count": 57,
   "metadata": {},
   "outputs": [
    {
     "data": {
      "text/plain": [
       "True"
      ]
     },
     "execution_count": 57,
     "metadata": {},
     "output_type": "execute_result"
    }
   ],
   "source": [
    "type(veri[5]) == list"
   ]
  },
  {
   "cell_type": "code",
   "execution_count": 58,
   "metadata": {},
   "outputs": [
    {
     "data": {
      "text/plain": [
       "False"
      ]
     },
     "execution_count": 58,
     "metadata": {},
     "output_type": "execute_result"
    }
   ],
   "source": [
    "type(veri[5]) == str"
   ]
  },
  {
   "cell_type": "code",
   "execution_count": 59,
   "metadata": {},
   "outputs": [
    {
     "data": {
      "text/plain": [
       "{'int': 0, 'str': 0, 'bool': 0, 'list': 0, 'tuple': 0, 'dict': 0, 'set': 0}"
      ]
     },
     "execution_count": 59,
     "metadata": {},
     "output_type": "execute_result"
    }
   ],
   "source": [
    "toplam_tipler = {}.fromkeys (tipler, 0)\n",
    "toplam_tipler"
   ]
  },
  {
   "cell_type": "code",
   "execution_count": 60,
   "metadata": {},
   "outputs": [
    {
     "data": {
      "text/plain": [
       "{'int': 2, 'str': 3, 'bool': 1, 'list': 1, 'tuple': 1, 'dict': 2, 'set': 1}"
      ]
     },
     "execution_count": 60,
     "metadata": {},
     "output_type": "execute_result"
    }
   ],
   "source": [
    "for i in range(len (veri)) :\n",
    "    \n",
    "    if type(veri[i]) == int : toplam_tipler [\"int\"] += 1\n",
    "    elif type(veri [i]) == str : toplam_tipler [\"str\"] += 1 \n",
    "    elif type(veri[i]) == bool: toplam_tipler [\"bool\"] += 1 \n",
    "    elif type(veri[i]) == list : toplam_tipler[\"list\"] += 1\n",
    "    elif type(veri[i]) == tuple : toplam_tipler [\"tuple\"] += 1\n",
    "    elif type(veri[i]) == dict : toplam_tipler [\"dict\"] += 1\n",
    "    elif type (veri[i]) == set : toplam_tipler[\"set\"] += 1\n",
    "    \n",
    "toplam_tipler"
   ]
  }
 ],
 "metadata": {
  "kernelspec": {
   "display_name": "Python 3.10.5 64-bit",
   "language": "python",
   "name": "python3"
  },
  "language_info": {
   "codemirror_mode": {
    "name": "ipython",
    "version": 3
   },
   "file_extension": ".py",
   "mimetype": "text/x-python",
   "name": "python",
   "nbconvert_exporter": "python",
   "pygments_lexer": "ipython3",
   "version": "3.10.5"
  },
  "orig_nbformat": 4,
  "vscode": {
   "interpreter": {
    "hash": "aee8b7b246df8f9039afb4144a1f6fd8d2ca17a180786b69acc140d282b71a49"
   }
  }
 },
 "nbformat": 4,
 "nbformat_minor": 2
}
