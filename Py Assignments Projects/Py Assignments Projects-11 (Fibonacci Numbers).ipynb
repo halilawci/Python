{
 "cells": [
  {
   "cell_type": "markdown",
   "metadata": {},
   "source": [
    "# Assignment PYB-11 (Fibonacci Numbers)\n",
    "\n",
    "Task: Create a list consisting of Fibonacci numbers from 1 to 55 using control flow statements and range() function.\n",
    "\n",
    "The desired output is like this :\n",
    "\n",
    "fibonacci - [1, 1, 2, 3, 5, 8, 13, 21, 34, 55]\n",
    "\n",
    "==========\n",
    "\n",
    "Görev: Kontrol akışı deyimlerini ve range() işlevini kullanarak 1'den 55'e kadar Fibonacci sayılarından oluşan bir liste oluşturun.\n",
    "\n",
    "İstenilen çıktı şu şekildedir:\n",
    "\n",
    "fibonacci - [1, 1, 2, 3, 5, 8, 13, 21, 34, 55]"
   ]
  },
  {
   "cell_type": "markdown",
   "metadata": {},
   "source": [
    "Solution 1"
   ]
  },
  {
   "cell_type": "code",
   "execution_count": 1,
   "metadata": {},
   "outputs": [
    {
     "name": "stdout",
     "output_type": "stream",
     "text": [
      "[1, 1, 2, 3, 5, 8, 13, 21, 34, 55]\n"
     ]
    }
   ],
   "source": [
    "fibo = [1, 1]\n",
    "\n",
    "for i in range (8) :\n",
    "    fibo.append(fibo[i] + fibo [i+1])\n",
    "    \n",
    "print(fibo)"
   ]
  },
  {
   "cell_type": "code",
   "execution_count": 5,
   "metadata": {},
   "outputs": [
    {
     "data": {
      "text/plain": [
       "[1, 1, 2, 3, 5, 8, 13, 21, 34, 55, 89]"
      ]
     },
     "execution_count": 5,
     "metadata": {},
     "output_type": "execute_result"
    }
   ],
   "source": [
    "n = int(input(\"Enter the number of sequence of Fibonacci.\"))\n",
    "\n",
    "fibo = [1, 1]\n",
    "\n",
    "for i in range (n-2) :\n",
    "    fibo.append(fibo[i] + fibo[i+1])\n",
    "\n",
    "fibo #11"
   ]
  },
  {
   "cell_type": "markdown",
   "metadata": {},
   "source": [
    "Solution 2"
   ]
  },
  {
   "cell_type": "code",
   "execution_count": 6,
   "metadata": {},
   "outputs": [
    {
     "name": "stdout",
     "output_type": "stream",
     "text": [
      "[1, 1, 2, 3, 5, 8, 13, 21, 34, 55]\n"
     ]
    }
   ],
   "source": [
    "fibonacci = [1, 1]\n",
    "while max(fibonacci) < 55 :\n",
    "  fibonacci.append(fibonacci[-1] + fibonacci[-2])\n",
    "\n",
    "print(fibonacci)"
   ]
  },
  {
   "cell_type": "markdown",
   "metadata": {},
   "source": [
    "Solution 3"
   ]
  },
  {
   "cell_type": "code",
   "execution_count": 7,
   "metadata": {},
   "outputs": [
    {
     "name": "stdout",
     "output_type": "stream",
     "text": [
      "['1', '1', '2', '3', '5', '8', '13', '21', '34', '55']\n"
     ]
    }
   ],
   "source": [
    "liste = [\"1\", \"1\"]\n",
    "n = 1\n",
    "while int(liste[n]) < 56 :\n",
    "  liste.append(str(int(liste[n]) + int(liste[n - 1])))\n",
    "  n += 1\n",
    "\n",
    "liste.pop()\n",
    "print(liste)"
   ]
  },
  {
   "cell_type": "markdown",
   "metadata": {},
   "source": [
    "Solution 4"
   ]
  },
  {
   "cell_type": "code",
   "execution_count": 8,
   "metadata": {},
   "outputs": [
    {
     "name": "stdout",
     "output_type": "stream",
     "text": [
      "[1, 1, 2, 3, 5, 8, 13, 21, 34, 55]\n"
     ]
    }
   ],
   "source": [
    "liste = [1, 1]\n",
    "n = 1\n",
    "while int(liste[n]) < 56 :\n",
    "  liste.append(liste[n] + liste[n - 1])\n",
    "  n += 1\n",
    "\n",
    "liste.pop()\n",
    "print(liste)"
   ]
  },
  {
   "cell_type": "markdown",
   "metadata": {},
   "source": [
    "# Fibonacci Other-1| range() | len() | for loop\n",
    "\n",
    "The Fibonacci sequence of numbers is a sequence of numbers whose first two terms are 1 and each subsequent term is the sum of the two preceding terms. Print the first 100 Fibonacci numbers to the screen.\n",
    "\n",
    "Fibonacci sayı dizisi ilk iki terimi 1 olan ve sonraki her terimi kendisinden önce gelen iki terimin toplamı olan sayı dizisidir. ilk 100 fibonacci sayısını ekrana yazdırınız."
   ]
  },
  {
   "cell_type": "code",
   "execution_count": 9,
   "metadata": {},
   "outputs": [
    {
     "name": "stdout",
     "output_type": "stream",
     "text": [
      "[0, 1, 1, 2, 3, 5, 8, 13, 21, 34, 55, 89, 144, 233, 377, 610, 987, 1597, 2584, 4181, 6765, 10946, 17711, 28657, 46368, 75025, 121393, 196418, 317811, 514229, 832040, 1346269, 2178309, 3524578, 5702887, 9227465, 14930352, 24157817, 39088169, 63245986, 102334155, 165580141, 267914296, 433494437, 701408733, 1134903170, 1836311903, 2971215073, 4807526976, 7778742049, 12586269025, 20365011074, 32951280099, 53316291173, 86267571272, 139583862445, 225851433717, 365435296162, 591286729879, 956722026041, 1548008755920, 2504730781961, 4052739537881, 6557470319842, 10610209857723, 17167680177565, 27777890035288, 44945570212853, 72723460248141, 117669030460994, 190392490709135, 308061521170129, 498454011879264, 806515533049393, 1304969544928657, 2111485077978050, 3416454622906707, 5527939700884757, 8944394323791464, 14472334024676221, 23416728348467685, 37889062373143906, 61305790721611591, 99194853094755497, 160500643816367088, 259695496911122585, 420196140727489673, 679891637638612258, 1100087778366101931, 1779979416004714189, 2880067194370816120, 4660046610375530309, 7540113804746346429, 12200160415121876738, 19740274219868223167, 31940434634990099905, 51680708854858323072, 83621143489848422977, 135301852344706746049, 218922995834555169026]\n",
      "100\n"
     ]
    }
   ],
   "source": [
    "a, b = 0, 1\n",
    "fibonacci = [a, b]\n",
    "for i in range(100 - len(fibonacci)) :\n",
    "  a, b = b, a + b\n",
    "  fibonacci += [b]\n",
    "print(fibonacci)\n",
    "print(len(fibonacci))"
   ]
  },
  {
   "cell_type": "code",
   "execution_count": 10,
   "metadata": {},
   "outputs": [
    {
     "name": "stdout",
     "output_type": "stream",
     "text": [
      "0-1-1-2-3-5-8-13-21-34-55-89-144-233-377-610-987-1597-2584-4181-6765-10946-17711-28657-46368-75025-121393-196418-317811-514229-832040-1346269-2178309-3524578-5702887-9227465-14930352-24157817-39088169-63245986-102334155-165580141-267914296-433494437-701408733-1134903170-1836311903-2971215073-4807526976-7778742049-12586269025-20365011074-32951280099-53316291173-86267571272-139583862445-225851433717-365435296162-591286729879-956722026041-1548008755920-2504730781961-4052739537881-6557470319842-10610209857723-17167680177565-27777890035288-44945570212853-72723460248141-117669030460994-190392490709135-308061521170129-498454011879264-806515533049393-1304969544928657-2111485077978050-3416454622906707-5527939700884757-8944394323791464-14472334024676221-23416728348467685-37889062373143906-61305790721611591-99194853094755497-160500643816367088-259695496911122585-420196140727489673-679891637638612258-1100087778366101931-1779979416004714189-2880067194370816120-4660046610375530309-7540113804746346429-12200160415121876738-19740274219868223167-31940434634990099905-51680708854858323072-83621143489848422977-135301852344706746049-218922995834555169026-"
     ]
    }
   ],
   "source": [
    "num1=0\n",
    "num2=1\n",
    "count=0\n",
    "\n",
    "print(num1,end=\"-\")\n",
    "print(num2,end=\"-\")\n",
    "\n",
    "for i in range(100 - 2): # ilk iki elemanı çıkarıyoruz\n",
    "  num3=num1+num2\n",
    "  num1=num2\n",
    "  num2=num3\n",
    "  print(num3, end=\"-\")\n",
    "count += 1"
   ]
  },
  {
   "cell_type": "markdown",
   "metadata": {},
   "source": [
    "# Fibonacci Other-2 range() | len() | for loop\n",
    "\n",
    "Write down the first Fibonacci number with 100 digits and what Fibonacci number it is.\n",
    "\n",
    "100 basamaklı ilk fibonacci sayısını ve kaçıncı fibonacci sayısı olduğunu yazınız."
   ]
  },
  {
   "cell_type": "code",
   "execution_count": 11,
   "metadata": {},
   "outputs": [
    {
     "name": "stdout",
     "output_type": "stream",
     "text": [
      "100\n",
      "1344719667586153181419716641724567886890850696275767987106294472017884974410332069524504824747437757\n",
      "476\n"
     ]
    }
   ],
   "source": [
    "a, b = 0, 1\n",
    "fibonacci = [a, b]\n",
    "while len(str(b)) != 100 :\n",
    "  a, b = b, a + b\n",
    "  fibonacci += [b]\n",
    "  if len(str(b)) == 100 :\n",
    "    fibonacci += [b]\n",
    "    break\n",
    "print(len(str(fibonacci[-1])))\n",
    "print(fibonacci[-1])\n",
    "print(fibonacci.index(fibonacci[-1]))"
   ]
  }
 ],
 "metadata": {
  "kernelspec": {
   "display_name": "Python 3.10.5 64-bit",
   "language": "python",
   "name": "python3"
  },
  "language_info": {
   "codemirror_mode": {
    "name": "ipython",
    "version": 3
   },
   "file_extension": ".py",
   "mimetype": "text/x-python",
   "name": "python",
   "nbconvert_exporter": "python",
   "pygments_lexer": "ipython3",
   "version": "3.10.5"
  },
  "orig_nbformat": 4,
  "vscode": {
   "interpreter": {
    "hash": "aee8b7b246df8f9039afb4144a1f6fd8d2ca17a180786b69acc140d282b71a49"
   }
  }
 },
 "nbformat": 4,
 "nbformat_minor": 2
}
