{
 "cells": [
  {
   "cell_type": "markdown",
   "metadata": {},
   "source": [
    "# Assignment PYB-7 (Comfortable Words)\n",
    "\n",
    "Task: Find out if the given word is \"comfortable words\" in relation to the ten-finger keyboard use.\n",
    "\n",
    "A comfortable word is a word which you can type always alternating the hand you type with (assuming you type using a Q-keyboard and use of the ten-fingers standard).\n",
    "\n",
    "The word will always be a string consisting of only letters from a to z.\n",
    "\n",
    "Write a program which returns True if it's a comfortable word or False otherwise.\n",
    "\n",
    "Examples\n",
    "\n",
    "Given word\n",
    "\n",
    "tester\n",
    "polly\n",
    "clarusway\n",
    "\n",
    "Desired Output (explanation)\n",
    "\n",
    "False (uses only left-hand fingers)*\n",
    "False (uses only right-hand fingers)*\n",
    "True (uses both hand fingers)*\n",
    "\n",
    "Note: Do a quick research on ten-fingers keyboard usage. (4) the explanation doesn't need to be in the output.\n",
    "\n",
    "==========\n",
    "\n",
    "Görev: Verilen kelimenin on parmak klavye kullanımına göre \"rahat kelimeler\" olup olmadığını öğrenin.\n",
    "\n",
    "Rahat bir sözcük, her zaman yazdığınız eli değiştirerek yazabileceğiniz bir sözcüktür (Q klavyesini kullanarak ve on parmak standardını kullandığınızı varsayarak).\n",
    "\n",
    "Sözcük her zaman yalnızca a'dan z'ye harflerden oluşan bir dize olacaktır.\n",
    "\n",
    "Rahat bir sözcükse True, değilse False döndüren bir program yazın.\n",
    "\n",
    "Örnekler\n",
    "\n",
    "verilen kelime\n",
    "\n",
    "test cihazı\n",
    "polly\n",
    "clarusway\n",
    "\n",
    "İstenen Çıktı (açıklama)\n",
    "\n",
    "Yanlış (yalnızca sol el parmaklarını kullanır)*\n",
    "Yanlış (yalnızca sağ el parmaklarını kullanır)*\n",
    "Doğru (iki elinin de parmağını kullanır)*\n",
    "\n",
    "Not: On parmak klavye kullanımı hakkında hızlı bir araştırma yapın. (4) açıklamanın çıktıda olması gerekmez."
   ]
  },
  {
   "cell_type": "code",
   "execution_count": 1,
   "metadata": {},
   "outputs": [
    {
     "data": {
      "text/plain": [
       "{'a', 'b', 'c', 'd', 'e', 'f', 'g', 'q', 'r', 's', 't', 'v', 'w', 'x', 'z'}"
      ]
     },
     "execution_count": 1,
     "metadata": {},
     "output_type": "execute_result"
    }
   ],
   "source": [
    "left = set (\"qwertasdfgzxcvb\")\n",
    "left"
   ]
  },
  {
   "cell_type": "code",
   "execution_count": 2,
   "metadata": {},
   "outputs": [
    {
     "data": {
      "text/plain": [
       "{'I', 'h', 'i', 'j', 'k', 'm', 'n', 'o', 'p', 'u', 'y'}"
      ]
     },
     "execution_count": 2,
     "metadata": {},
     "output_type": "execute_result"
    }
   ],
   "source": [
    "right = set(\"yuiophjkImn\")\n",
    "right"
   ]
  },
  {
   "cell_type": "code",
   "execution_count": 3,
   "metadata": {},
   "outputs": [],
   "source": [
    "alfabe = list(left | right)"
   ]
  },
  {
   "cell_type": "code",
   "execution_count": 4,
   "metadata": {},
   "outputs": [],
   "source": [
    "alfabe.sort ()"
   ]
  },
  {
   "cell_type": "code",
   "execution_count": 5,
   "metadata": {},
   "outputs": [
    {
     "name": "stdout",
     "output_type": "stream",
     "text": [
      "['I', 'a', 'b', 'c', 'd', 'e', 'f', 'g', 'h', 'i', 'j', 'k', 'm', 'n', 'o', 'p', 'q', 'r', 's', 't', 'u', 'v', 'w', 'x', 'y', 'z']\n"
     ]
    },
    {
     "data": {
      "text/plain": [
       "26"
      ]
     },
     "execution_count": 5,
     "metadata": {},
     "output_type": "execute_result"
    }
   ],
   "source": [
    "print(alfabe)\n",
    "len(alfabe)"
   ]
  },
  {
   "cell_type": "code",
   "execution_count": 6,
   "metadata": {},
   "outputs": [
    {
     "data": {
      "text/plain": [
       "{'a', 'c', 'l', 'r', 's', 'u', 'w', 'y'}"
      ]
     },
     "execution_count": 6,
     "metadata": {},
     "output_type": "execute_result"
    }
   ],
   "source": [
    "word = set (\"clarusway\")\n",
    "word"
   ]
  },
  {
   "cell_type": "code",
   "execution_count": 7,
   "metadata": {},
   "outputs": [
    {
     "data": {
      "text/plain": [
       "False"
      ]
     },
     "execution_count": 7,
     "metadata": {},
     "output_type": "execute_result"
    }
   ],
   "source": [
    "bool(set ())"
   ]
  },
  {
   "cell_type": "code",
   "execution_count": 9,
   "metadata": {},
   "outputs": [
    {
     "data": {
      "text/plain": [
       "True"
      ]
     },
     "execution_count": 9,
     "metadata": {},
     "output_type": "execute_result"
    }
   ],
   "source": [
    "bool(set(\"1\"))"
   ]
  },
  {
   "cell_type": "code",
   "execution_count": 10,
   "metadata": {},
   "outputs": [],
   "source": [
    "leftcheck = bool (word.difference(left))\n",
    "\n",
    "rightcheck = bool (word.difference(right))"
   ]
  },
  {
   "cell_type": "code",
   "execution_count": 11,
   "metadata": {},
   "outputs": [
    {
     "data": {
      "text/plain": [
       "True"
      ]
     },
     "execution_count": 11,
     "metadata": {},
     "output_type": "execute_result"
    }
   ],
   "source": [
    "sonuc = leftcheck and rightcheck\n",
    "\n",
    "sonuc"
   ]
  },
  {
   "cell_type": "code",
   "execution_count": 12,
   "metadata": {},
   "outputs": [
    {
     "name": "stdout",
     "output_type": "stream",
     "text": [
      "False\n"
     ]
    }
   ],
   "source": [
    "word = set(input ( ))\n",
    "left = \"qwertasdfgzxcvb\"\n",
    "right = \"yuiophiklmn\"\n",
    "leftcheck = bool(word.difference(left))\n",
    "rightcheck = bool(word.difference (right))\n",
    "print(leftcheck and rightcheck) #tester"
   ]
  }
 ],
 "metadata": {
  "kernelspec": {
   "display_name": "Python 3.10.5 64-bit",
   "language": "python",
   "name": "python3"
  },
  "language_info": {
   "codemirror_mode": {
    "name": "ipython",
    "version": 3
   },
   "file_extension": ".py",
   "mimetype": "text/x-python",
   "name": "python",
   "nbconvert_exporter": "python",
   "pygments_lexer": "ipython3",
   "version": "3.10.5"
  },
  "orig_nbformat": 4,
  "vscode": {
   "interpreter": {
    "hash": "aee8b7b246df8f9039afb4144a1f6fd8d2ca17a180786b69acc140d282b71a49"
   }
  }
 },
 "nbformat": 4,
 "nbformat_minor": 2
}
