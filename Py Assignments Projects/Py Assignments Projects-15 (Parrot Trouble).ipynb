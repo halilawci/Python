{
 "cells": [
  {
   "cell_type": "markdown",
   "metadata": {},
   "source": [
    "# Assignment PYB-15 (Parrot Trouble)\n",
    "\n",
    "We have a loud talking parrot. We are in trouble if the parrot is talking and the hour is before 6 or after 21.\n",
    "\n",
    "Yüksek sesle konuşan bir papağanımız var. Papağan konuşuyorsa ve saat 6'dan önce veya 21'den sonraysa başımız belada.\n",
    "\n",
    "Define a function taking two parameters (talking and hour) to return True if we are in trouble. The argument to  talking parameter can only be True or False whether it is talking or not. The argument to hour parameter should be the current hour time in the range of 0 to 23.\n",
    "\n",
    "Başımız beladaysa True döndürmek için iki parametre (konuşma ve saat) alan bir işlev tanımlayın. Konuşan parametrenin argümanı, konuşsa da konuşmasa da yalnızca Doğru veya Yanlış olabilir. Saat parametresinin argümanı, 0 ila 23 aralığında geçerli saat zamanı olmalıdır."
   ]
  },
  {
   "cell_type": "code",
   "execution_count": null,
   "metadata": {},
   "outputs": [],
   "source": [
    "def parrot_trouble(talking, hour):\n",
    "    if talking and (hour < 6 or hour > 21):\n",
    "        return True\n",
    "    else:\n",
    "        return False"
   ]
  }
 ],
 "metadata": {
  "language_info": {
   "name": "python"
  },
  "orig_nbformat": 4
 },
 "nbformat": 4,
 "nbformat_minor": 2
}
