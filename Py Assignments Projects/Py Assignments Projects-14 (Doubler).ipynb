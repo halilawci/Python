{
 "cells": [
  {
   "cell_type": "markdown",
   "metadata": {},
   "source": [
    "# Assignment PYB-14 (Doubler)\n",
    "\n",
    "Given two integer values, return their sum. If the two values are the same, then return double their sum.\n",
    "\n",
    "İki tamsayı değeri verildiğinde, toplamlarını döndürün. İki değer aynıysa, toplamlarının iki katını döndürün."
   ]
  },
  {
   "cell_type": "code",
   "execution_count": null,
   "metadata": {},
   "outputs": [],
   "source": [
    "def sum_double(x, y):\n",
    "    if x == y:\n",
    "        a = (x + y)*2\n",
    "        return a\n",
    "    else:\n",
    "        a= x+y\n",
    "        return a"
   ]
  }
 ],
 "metadata": {
  "kernelspec": {
   "display_name": "Python 3.10.5 64-bit",
   "language": "python",
   "name": "python3"
  },
  "language_info": {
   "name": "python",
   "version": "3.10.5"
  },
  "orig_nbformat": 4,
  "vscode": {
   "interpreter": {
    "hash": "aee8b7b246df8f9039afb4144a1f6fd8d2ca17a180786b69acc140d282b71a49"
   }
  }
 },
 "nbformat": 4,
 "nbformat_minor": 2
}
