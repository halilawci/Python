{
 "cells": [
  {
   "cell_type": "markdown",
   "metadata": {},
   "source": [
    "# Assignment PYB-5 (Leap Year)\n",
    "\n",
    "Task:\n",
    "\n",
    "Find out if a given year is a \"leap\" year.\n",
    "\n",
    "In the Gregorian calendar, three criteria must be taken into account to identify leap years:\n",
    "\n",
    "• The vear must be evenly divisible by 4:\n",
    "• If the year can also be evenly divided by 100, it is not a leap year;\n",
    "• unless... The vear is also evenly divisible by 400. Then it is a leap vear.\n",
    "\n",
    "According to these rules, the years 2000 and 2400 are leap years, while 1800. 1900, 2100, 2200, 2300, and 2500 are not the leap vears. Write a Python program that prints True if the given year by the user is a leap year, prints False otherwise.\n",
    "\n",
    "==========\n",
    "\n",
    "Görev:\n",
    "\n",
    "Belirli bir yılın bir \"artık\" yıl olup olmadığını öğrenin.\n",
    "\n",
    "Gregoryen takviminde artık yılları belirlemek için üç kriter dikkate alınmalıdır:\n",
    "\n",
    "• Yıl 4'e tam bölünebilmelidir:\n",
    "• Yıl da 100'e eşit olarak bölünebiliyorsa, artık yıl değildir;\n",
    "• yoksa... Yıl da 400'e tam bölünebilir. O zaman artık yıldır.\n",
    "\n",
    "Bu kurallara göre 2000 ve 2400 yılları artık yıl iken 1800. 1900, 2100, 2200, 2300 ve 2500 artık yıllar değildir. Kullanıcı tarafından verilen yıl artık yıl ise True, değilse False yazdıran bir Python programı yazın."
   ]
  },
  {
   "cell_type": "code",
   "execution_count": 1,
   "metadata": {},
   "outputs": [
    {
     "name": "stdout",
     "output_type": "stream",
     "text": [
      "True\n"
     ]
    }
   ],
   "source": [
    "x = int(input(\"Enter a year please :\"))\n",
    "\n",
    "leap = (x % 4 == 0) and ((x % 100 != 0) or (x % 400 == 0))\n",
    "\n",
    "print(leap) #2012"
   ]
  },
  {
   "cell_type": "code",
   "execution_count": 2,
   "metadata": {},
   "outputs": [
    {
     "name": "stdout",
     "output_type": "stream",
     "text": [
      "True\n"
     ]
    }
   ],
   "source": [
    "x = int(input(\"Enter a year please :\"))\n",
    "\n",
    "leap = (x % 4 == 0) and ( (x % 100) or not (x % 400) )\n",
    "\n",
    "print(leap) #2000"
   ]
  }
 ],
 "metadata": {
  "kernelspec": {
   "display_name": "Python 3.10.5 64-bit",
   "language": "python",
   "name": "python3"
  },
  "language_info": {
   "codemirror_mode": {
    "name": "ipython",
    "version": 3
   },
   "file_extension": ".py",
   "mimetype": "text/x-python",
   "name": "python",
   "nbconvert_exporter": "python",
   "pygments_lexer": "ipython3",
   "version": "3.10.5"
  },
  "orig_nbformat": 4,
  "vscode": {
   "interpreter": {
    "hash": "aee8b7b246df8f9039afb4144a1f6fd8d2ca17a180786b69acc140d282b71a49"
   }
  }
 },
 "nbformat": 4,
 "nbformat_minor": 2
}
