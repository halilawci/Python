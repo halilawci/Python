{
 "cells": [
  {
   "cell_type": "markdown",
   "metadata": {},
   "source": [
    "# Assignment PYB-12 (Recursuve Functions)\n",
    "\n",
    "Task : Write a Python program to find the factorial of a number using recursive function\n",
    "\n",
    "What is factorial?\n",
    "\n",
    "Factorial is a non-negative integer. It is the product of all positive integers less than or equal to that number you ask for factorial. It is denoted by an exclamation sign (!)\n",
    "\n",
    "==========\n",
    "\n",
    "Görev : Özyinelemeli işlevi kullanarak bir sayının faktöriyelini bulan bir Python programı yazın\n",
    "\n",
    "faktöriyel nedir?\n",
    "\n",
    "Faktöriyel, negatif olmayan bir tamsayıdır. Faktöriyel için sorduğunuz sayıdan küçük veya ona eşit tüm pozitif tam sayıların çarpımıdır. Ünlem işareti (!) ile gösterilir."
   ]
  },
  {
   "cell_type": "markdown",
   "metadata": {},
   "source": []
  },
  {
   "cell_type": "code",
   "execution_count": 1,
   "metadata": {},
   "outputs": [
    {
     "name": "stdout",
     "output_type": "stream",
     "text": [
      "120\n"
     ]
    }
   ],
   "source": [
    "sonuc = 1\n",
    "\n",
    "for i in range(1, 6) :\n",
    "    sonuc *= i # sonuc = sonuc * i\n",
    "    \n",
    "print(sonuc)"
   ]
  },
  {
   "cell_type": "code",
   "execution_count": 4,
   "metadata": {},
   "outputs": [],
   "source": [
    "def my_factorial(n) :\n",
    "    \n",
    "    sonuc = 1\n",
    "    \n",
    "    for i in range(1, n+1):\n",
    "        sonuc *= i \n",
    "    \n",
    "    if n == 0 or n == 1 :\n",
    "        return 1\n",
    "    \n",
    "    else :\n",
    "        return sonuc   "
   ]
  },
  {
   "cell_type": "code",
   "execution_count": 5,
   "metadata": {},
   "outputs": [
    {
     "data": {
      "text/plain": [
       "1"
      ]
     },
     "execution_count": 5,
     "metadata": {},
     "output_type": "execute_result"
    }
   ],
   "source": [
    "my_factorial(0)"
   ]
  },
  {
   "cell_type": "code",
   "execution_count": 6,
   "metadata": {},
   "outputs": [
    {
     "data": {
      "text/plain": [
       "120"
      ]
     },
     "execution_count": 6,
     "metadata": {},
     "output_type": "execute_result"
    }
   ],
   "source": [
    "my_factorial(5)"
   ]
  },
  {
   "cell_type": "code",
   "execution_count": 7,
   "metadata": {},
   "outputs": [],
   "source": [
    "def factorial (n) :\n",
    "    if n == 0 or n == 1 :\n",
    "        return 1\n",
    "    else :\n",
    "        return n * factorial (n - 1)"
   ]
  },
  {
   "cell_type": "code",
   "execution_count": 8,
   "metadata": {},
   "outputs": [
    {
     "data": {
      "text/plain": [
       "120"
      ]
     },
     "execution_count": 8,
     "metadata": {},
     "output_type": "execute_result"
    }
   ],
   "source": [
    "my_factorial(5)"
   ]
  },
  {
   "cell_type": "code",
   "execution_count": 9,
   "metadata": {},
   "outputs": [
    {
     "data": {
      "text/plain": [
       "1"
      ]
     },
     "execution_count": 9,
     "metadata": {},
     "output_type": "execute_result"
    }
   ],
   "source": [
    "my_factorial(0)"
   ]
  },
  {
   "cell_type": "code",
   "execution_count": 11,
   "metadata": {},
   "outputs": [],
   "source": [
    "my_factorial(4)\n",
    "\n",
    "def factorial (n) :\n",
    "    if n == 0 or n == 1 :\n",
    "        return 1\n",
    "    else :\n",
    "        return n * factorial (n - 1)\n",
    "    \n",
    "def factorial (n) :\n",
    "    if n == 0 or n == 1 :\n",
    "        return 1\n",
    "    else :\n",
    "        return n * factorial (n - 1)\n",
    "    \n",
    "def factorial (n) :\n",
    "    if n == 0 or n == 1 :\n",
    "        return 1\n",
    "    else :\n",
    "        return n * factorial (n - 1)\n",
    "    \n",
    "def factorial (n) :\n",
    "    if n == 0 or n == 1 :\n",
    "        return 1\n",
    "    else :\n",
    "        return n * factorial (n - 1)"
   ]
  },
  {
   "cell_type": "code",
   "execution_count": 12,
   "metadata": {},
   "outputs": [
    {
     "data": {
      "text/plain": [
       "24"
      ]
     },
     "execution_count": 12,
     "metadata": {},
     "output_type": "execute_result"
    }
   ],
   "source": [
    "my_factorial(4)"
   ]
  }
 ],
 "metadata": {
  "kernelspec": {
   "display_name": "Python 3.10.5 64-bit",
   "language": "python",
   "name": "python3"
  },
  "language_info": {
   "codemirror_mode": {
    "name": "ipython",
    "version": 3
   },
   "file_extension": ".py",
   "mimetype": "text/x-python",
   "name": "python",
   "nbconvert_exporter": "python",
   "pygments_lexer": "ipython3",
   "version": "3.10.5"
  },
  "orig_nbformat": 4,
  "vscode": {
   "interpreter": {
    "hash": "aee8b7b246df8f9039afb4144a1f6fd8d2ca17a180786b69acc140d282b71a49"
   }
  }
 },
 "nbformat": 4,
 "nbformat_minor": 2
}
