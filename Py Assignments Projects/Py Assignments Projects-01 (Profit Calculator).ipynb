{
 "cells": [
  {
   "cell_type": "markdown",
   "metadata": {},
   "source": [
    "# Assignment PYB-1 (Profit Calculator)\n",
    "\n",
    "Task: If you had deposited a coin on the cryptocurrency exchange that brought 7% fixed profit daily for a week, how much would your $ 1000 reach at the end of the 7th day?\n",
    "\n",
    "==========\n",
    "\n",
    "Soru: Bir hafta boyunca günlük %7 sabit kâr getiren kripto para borsasına bir coin yatırmış olsaydınız, 7. günün sonunda 1000 dolarınız ne kadara ulaşırdı?"
   ]
  },
  {
   "cell_type": "code",
   "execution_count": 1,
   "metadata": {},
   "outputs": [],
   "source": [
    "para = 1000"
   ]
  },
  {
   "cell_type": "code",
   "execution_count": 2,
   "metadata": {},
   "outputs": [
    {
     "data": {
      "text/plain": [
       "1070.0"
      ]
     },
     "execution_count": 2,
     "metadata": {},
     "output_type": "execute_result"
    }
   ],
   "source": [
    "para = para + para * 0.07 # pazartesi günù sonundaki para miktarm.\n",
    "\n",
    "para"
   ]
  },
  {
   "cell_type": "code",
   "execution_count": 3,
   "metadata": {},
   "outputs": [
    {
     "data": {
      "text/plain": [
       "1144.9"
      ]
     },
     "execution_count": 3,
     "metadata": {},
     "output_type": "execute_result"
    }
   ],
   "source": [
    "para = para + para * 0.07 # sal günù sonundaki para miktarm.\n",
    "\n",
    "para"
   ]
  },
  {
   "cell_type": "code",
   "execution_count": 4,
   "metadata": {},
   "outputs": [
    {
     "data": {
      "text/plain": [
       "1225.0430000000001"
      ]
     },
     "execution_count": 4,
     "metadata": {},
     "output_type": "execute_result"
    }
   ],
   "source": [
    "para = para + para * 0.07 # carsamba günü sonundaki para miktarm.\n",
    "\n",
    "para"
   ]
  },
  {
   "cell_type": "code",
   "execution_count": 5,
   "metadata": {},
   "outputs": [
    {
     "data": {
      "text/plain": [
       "1310.79601"
      ]
     },
     "execution_count": 5,
     "metadata": {},
     "output_type": "execute_result"
    }
   ],
   "source": [
    "para = para + para * 0.07 # persembe günù sonundaki para miktarm.\n",
    "\n",
    "para"
   ]
  },
  {
   "cell_type": "code",
   "execution_count": 6,
   "metadata": {},
   "outputs": [
    {
     "data": {
      "text/plain": [
       "1402.5517307"
      ]
     },
     "execution_count": 6,
     "metadata": {},
     "output_type": "execute_result"
    }
   ],
   "source": [
    "para = para + para * 0.07 # cuma günù sonundaki para miktarm.\n",
    "\n",
    "para"
   ]
  },
  {
   "cell_type": "code",
   "execution_count": 7,
   "metadata": {},
   "outputs": [
    {
     "data": {
      "text/plain": [
       "1500.730351849"
      ]
     },
     "execution_count": 7,
     "metadata": {},
     "output_type": "execute_result"
    }
   ],
   "source": [
    "para = para + para * 0.07 # cumartesi günù sonundaki para miktarm.\n",
    "\n",
    "para"
   ]
  },
  {
   "cell_type": "code",
   "execution_count": 8,
   "metadata": {},
   "outputs": [
    {
     "data": {
      "text/plain": [
       "1605.78147647843"
      ]
     },
     "execution_count": 8,
     "metadata": {},
     "output_type": "execute_result"
    }
   ],
   "source": [
    "para = para + para * 0.07 # pazar günü sonundaki para miktarm.\n",
    "\n",
    "para"
   ]
  },
  {
   "cell_type": "code",
   "execution_count": null,
   "metadata": {},
   "outputs": [],
   "source": [
    "para = para * 1.07 # pazartesi gunu sonundaki miktar.\n",
    "para = para * 1.07 # sali gunu sonundaki miktar.\n",
    "para = para * 1.07 # çarsamba gunu sonundaki miktar.\n",
    "para = para * 1.07 # persembe gunu sonundaki miktar.\n",
    "para = para * 1.07 # cuma günü sonundaki miktar.\n",
    "para = para * 1.07 # cumaresi gunu sonundaki miktar. \n",
    "para = para * 1.07 # pazar gunu sonundaki miktar."
   ]
  },
  {
   "cell_type": "code",
   "execution_count": null,
   "metadata": {},
   "outputs": [],
   "source": [
    "para = para * 1.07 # pazartesi\n",
    "para = para * 1.07 * 1.07 # sali\n",
    "para = para * 1.07 * 1.07 * 1.07 # carsamba\n",
    "para = para * 1.07 * 1.07 * 1.07 * 1.07 # persembe\n",
    "para = para * 1.07 * 1.07 * 1.07 * 1.07 * 1.07 # сuma\n",
    "para = para * 1.07 * 1.07 * 1.07 * 1.07 * 1.07 * 1.07 # cumartersi\n",
    "para = para * 1.07 * 1.07 * 1.07 * 1.07 * 1.07 * 1.07 * 1.07 # paza"
   ]
  },
  {
   "cell_type": "code",
   "execution_count": 9,
   "metadata": {},
   "outputs": [],
   "source": [
    "para = 1000"
   ]
  },
  {
   "cell_type": "code",
   "execution_count": 10,
   "metadata": {},
   "outputs": [
    {
     "data": {
      "text/plain": [
       "1605.7814764784307"
      ]
     },
     "execution_count": 10,
     "metadata": {},
     "output_type": "execute_result"
    }
   ],
   "source": [
    "para = para * 1.07 ** 7\n",
    "\n",
    "para"
   ]
  }
 ],
 "metadata": {
  "kernelspec": {
   "display_name": "Python 3.10.5 64-bit",
   "language": "python",
   "name": "python3"
  },
  "language_info": {
   "codemirror_mode": {
    "name": "ipython",
    "version": 3
   },
   "file_extension": ".py",
   "mimetype": "text/x-python",
   "name": "python",
   "nbconvert_exporter": "python",
   "pygments_lexer": "ipython3",
   "version": "3.10.5"
  },
  "orig_nbformat": 4,
  "vscode": {
   "interpreter": {
    "hash": "aee8b7b246df8f9039afb4144a1f6fd8d2ca17a180786b69acc140d282b71a49"
   }
  }
 },
 "nbformat": 4,
 "nbformat_minor": 2
}
