{
 "cells": [
  {
   "cell_type": "markdown",
   "metadata": {},
   "source": [
    "# Assignment PYB-9 (Is it an Armstrong Number)\n",
    "\n",
    "Task: Find out if a given number is an \"Armstrong Number\".\n",
    "\n",
    "An n-digit number that is the sum of the nth powers of its digits is called an -Armstrong number.\n",
    "Examples:\n",
    "371 = 33 + 73 + 13;\n",
    "9474 = 94 + 44 + 74 + 44;\n",
    "93084 = 95 + 35 + 05 + 85 + 45.\n",
    "\n",
    "Write a Python program that;\n",
    "1.takes a positive integer number from the user,\n",
    "2.checks the entered number if it is Armstrong,\n",
    "3.consider the negative, float and any entries other than numeric values then display a warning message to the user.\n",
    "\n",
    "Note that; this question is famous on the web, so do it yourself to get more benefits from it. By the way, do not use try - except block.\n",
    "\n",
    "==========\n",
    "\n",
    "Görev: Verilen bir numaranın \"Armstrong Numarası\" olup olmadığını öğrenin.\n",
    "\n",
    "Rakamlarının n'inci kuvvetlerinin toplamı olan n basamaklı bir sayıya -Armstrong sayısı denir.\n",
    "Örnekler:\n",
    "371 = 33 + 73 + 13;\n",
    "9474 = 94 + 44 + 74 + 44;\n",
    "93084 = 95 + 35 + 05 + 85 + 45.\n",
    "\n",
    "Bir Python programı yazın;\n",
    "1.Kullanıcıdan pozitif bir tam sayı alır,\n",
    "2. Girilen numaranın Armstrong olup olmadığını kontrol eder,\n",
    "3.Negatif, kayan nokta ve sayısal değerler dışındaki tüm girişleri dikkate alın ve kullanıcıya bir uyarı mesajı gösterin.\n",
    "\n",
    "Dikkat; bu soru internette meşhur, bu yüzden ondan daha fazla fayda sağlamak için kendin yap. Bu arada, blok dışında try - kullanmayın.\n",
    "\n",
    "Examples\n",
    "\n",
    "Sample inputs :\n",
    "\n",
    "407\n",
    "\n",
    "5\n",
    "\n",
    "-153\n",
    "\n",
    "153.87 or 153.87\n",
    "\n",
    "one\n",
    "\n",
    "121\n",
    "\n",
    "Outputs:\n",
    "\n",
    "407 is an Armstrong number\n",
    "\n",
    "5 is an Armstrong number\n",
    "\n",
    "It is an invalid entry. Don't use non-numeric, float, or negative values!\n",
    "\n",
    "It is an invalid entry. Don't use non-numeric, float, or negative values!\n",
    "\n",
    "It is an invalid entry. Don't use non-numeric, float, or negative values!\n",
    "\n",
    "121 is not an Armstrong number"
   ]
  },
  {
   "cell_type": "code",
   "execution_count": 1,
   "metadata": {},
   "outputs": [
    {
     "data": {
      "text/plain": [
       "3"
      ]
     },
     "execution_count": 1,
     "metadata": {},
     "output_type": "execute_result"
    }
   ],
   "source": [
    "len (\"123\")"
   ]
  },
  {
   "cell_type": "code",
   "execution_count": 2,
   "metadata": {},
   "outputs": [
    {
     "data": {
      "text/plain": [
       "3"
      ]
     },
     "execution_count": 2,
     "metadata": {},
     "output_type": "execute_result"
    }
   ],
   "source": [
    "len(input(\"sayi giriniz:\")) #123"
   ]
  },
  {
   "cell_type": "code",
   "execution_count": 12,
   "metadata": {},
   "outputs": [
    {
     "name": "stdout",
     "output_type": "stream",
     "text": [
      "153 is NOT an Armstrong number.\n"
     ]
    }
   ],
   "source": [
    "while True :\n",
    "    sum_= 0\n",
    "    number = input (\"Enter a positive integer number :\")\n",
    "    digit = len(number)\n",
    "    \n",
    "    if not number.isdigit ():\n",
    "        print (number, \" is invalid entry. Please enter valid input.\")\n",
    "        \n",
    "    elif int (number) >= 0 :\n",
    "        for i in range(len (number)) :\n",
    "            sum_ = sum_ + int (number [i]) ** digit\n",
    "            \n",
    "        if sum == int(number) :\n",
    "            print (number, \" is an Armstrong number.\") \n",
    "            break\n",
    "        else:\n",
    "            print (number, \"is NOT an Armstrong number.\")\n",
    "            break\n",
    "        \n",
    "#153"
   ]
  },
  {
   "cell_type": "code",
   "execution_count": 3,
   "metadata": {},
   "outputs": [],
   "source": [
    "sayi = \"123\""
   ]
  },
  {
   "cell_type": "code",
   "execution_count": 4,
   "metadata": {},
   "outputs": [
    {
     "data": {
      "text/plain": [
       "True"
      ]
     },
     "execution_count": 4,
     "metadata": {},
     "output_type": "execute_result"
    }
   ],
   "source": [
    "\n",
    "sayi.isdigit()"
   ]
  },
  {
   "cell_type": "code",
   "execution_count": 7,
   "metadata": {},
   "outputs": [
    {
     "data": {
      "text/plain": [
       "False"
      ]
     },
     "execution_count": 7,
     "metadata": {},
     "output_type": "execute_result"
    }
   ],
   "source": [
    "\"-123\" .isdigit ()"
   ]
  },
  {
   "cell_type": "code",
   "execution_count": 8,
   "metadata": {},
   "outputs": [
    {
     "data": {
      "text/plain": [
       "False"
      ]
     },
     "execution_count": 8,
     "metadata": {},
     "output_type": "execute_result"
    }
   ],
   "source": [
    "\"123.0\" .isdigit()"
   ]
  }
 ],
 "metadata": {
  "kernelspec": {
   "display_name": "Python 3.10.5 64-bit",
   "language": "python",
   "name": "python3"
  },
  "language_info": {
   "codemirror_mode": {
    "name": "ipython",
    "version": 3
   },
   "file_extension": ".py",
   "mimetype": "text/x-python",
   "name": "python",
   "nbconvert_exporter": "python",
   "pygments_lexer": "ipython3",
   "version": "3.10.5"
  },
  "orig_nbformat": 4,
  "vscode": {
   "interpreter": {
    "hash": "aee8b7b246df8f9039afb4144a1f6fd8d2ca17a180786b69acc140d282b71a49"
   }
  }
 },
 "nbformat": 4,
 "nbformat_minor": 2
}
