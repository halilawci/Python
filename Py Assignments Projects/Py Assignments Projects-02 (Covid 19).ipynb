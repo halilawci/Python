{
 "cells": [
  {
   "cell_type": "markdown",
   "metadata": {},
   "source": [
    "# Assignment PYB-2 (Covid 19)\n",
    "\n",
    "Task: Estimating the risk of death from coronavirus.\n",
    "\n",
    "Consider the following questions in terms of True/False regarding someone else.\n",
    "\n",
    "Are you a cigarette addict older than 75 years old? Variable - age\n",
    "\n",
    "Do you have a severe chronic disease? Variable - chronic\n",
    "\n",
    "Is your immune system too weak? Variable - immune\n",
    "\n",
    "Set a logical algorithm using boolean logic operators (and/or) and the given variables in order to give us True (there is a risk of death) or False (there is not a risk of death) as a result.\n",
    "\n",
    "==========\n",
    "\n",
    "Görev: Koronavirüsten ölüm riskini tahmin etmek.\n",
    "\n",
    "Aşağıdaki soruları bir başkası ile ilgili Doğru/Yanlış açısından değerlendiriniz.\n",
    "\n",
    "75 yaşından büyük bir sigara bağımlısı mısınız? Değişken - yaş\n",
    "\n",
    "Ağır bir kronik hastalığınız var mı? Değişken - kronik\n",
    "\n",
    "Bağışıklık sisteminiz çok mu zayıf? Değişken - bağışıklık\n",
    "\n",
    "Sonuç olarak bize True (ölüm riski var) veya False (ölüm riski yok) vermek için boolean mantık operatörlerini (ve/veya) ve verilen değişkenleri kullanarak mantıksal bir algoritma ayarlayın."
   ]
  },
  {
   "cell_type": "code",
   "execution_count": 1,
   "metadata": {},
   "outputs": [],
   "source": [
    "age = True\n",
    "\n",
    "chronic = False\n",
    "\n",
    "immune = False"
   ]
  },
  {
   "cell_type": "code",
   "execution_count": 2,
   "metadata": {},
   "outputs": [
    {
     "name": "stdout",
     "output_type": "stream",
     "text": [
      "Risk of death :  True\n"
     ]
    }
   ],
   "source": [
    "risk = age or chronic or immune\n",
    "\n",
    "print(\"Risk of death : \", risk)"
   ]
  }
 ],
 "metadata": {
  "kernelspec": {
   "display_name": "Python 3.10.5 64-bit",
   "language": "python",
   "name": "python3"
  },
  "language_info": {
   "codemirror_mode": {
    "name": "ipython",
    "version": 3
   },
   "file_extension": ".py",
   "mimetype": "text/x-python",
   "name": "python",
   "nbconvert_exporter": "python",
   "pygments_lexer": "ipython3",
   "version": "3.10.5"
  },
  "orig_nbformat": 4,
  "vscode": {
   "interpreter": {
    "hash": "aee8b7b246df8f9039afb4144a1f6fd8d2ca17a180786b69acc140d282b71a49"
   }
  }
 },
 "nbformat": 4,
 "nbformat_minor": 2
}
