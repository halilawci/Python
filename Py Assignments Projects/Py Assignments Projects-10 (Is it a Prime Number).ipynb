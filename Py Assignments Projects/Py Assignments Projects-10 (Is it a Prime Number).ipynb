{
 "cells": [
  {
   "cell_type": "markdown",
   "metadata": {},
   "source": [
    "# Assignment PYB-10 (Is it a Prime Number)\n",
    "\n",
    "Task: Write a program that takes a number from the user and prints the result to check if it is a prime number.\n",
    "\n",
    "The examples of the desired output are as follows :\n",
    "\n",
    "input -› 19 = output : 19 is a prime number\n",
    "\n",
    "input -› 10 = output : 10 is not a prime number\n",
    "\n",
    "Note that; this question is famous on the web, so do it yourself to get more benefits from it. By the way, do not use try - except block.\n",
    "\n",
    "==========\n",
    "\n",
    "Görev: Kullanıcıdan bir sayı alan ve asal sayı olup olmadığını kontrol etmek için sonucu yazdıran bir program yazın.\n",
    "\n",
    "İstenen çıktının örnekleri aşağıdaki gibidir:\n",
    "\n",
    "girdi -› 19 = çıktı : 19 bir asal sayıdır\n",
    "\n",
    "giriş -› 10 = çıkış : 10 asal sayı değildir\n",
    "\n",
    "Dikkat; bu soru internette meşhur, bu yüzden ondan daha fazla fayda sağlamak için kendin yap. Bu arada, blok dışında try - kullanmayın."
   ]
  },
  {
   "cell_type": "markdown",
   "metadata": {},
   "source": []
  },
  {
   "cell_type": "code",
   "execution_count": 2,
   "metadata": {},
   "outputs": [
    {
     "name": "stdout",
     "output_type": "stream",
     "text": [
      "127  is a Prime Number.\n"
     ]
    }
   ],
   "source": [
    "n = int(input(\"Enter a positive integer number to check if it is a Prime Number :\"))\n",
    "\n",
    "counter = 0\n",
    "\n",
    "for i in range(1, n + 1) :\n",
    "    if n % i == 0 :\n",
    "        counter += 1\n",
    "        \n",
    "if (n == 0) or (n == 1) or (counter >= 3) :\n",
    "    print(n, \" is NOT a Prime Number.\")\n",
    "    \n",
    "else:\n",
    "    print(n, \" is a Prime Number.\")\n",
    "    \n",
    "    #127"
   ]
  },
  {
   "cell_type": "code",
   "execution_count": 3,
   "metadata": {},
   "outputs": [
    {
     "name": "stdout",
     "output_type": "stream",
     "text": [
      "127  is a Prime Number.\n"
     ]
    }
   ],
   "source": [
    "n = int(input(\"Enter a positive integer number to check if it is a Prime Number :\"))\n",
    "\n",
    "counter = 0\n",
    "\n",
    "for i in range (2, n) :\n",
    "    if n % i == 0 :\n",
    "        counter += 1\n",
    "        \n",
    "if (n == 0) or (n == 1) or (counter > 0) :\n",
    "    print(n,\" is NOT a Prime Number. \")\n",
    "          \n",
    "else :\n",
    "    print(n, \" is a Prime Number.\")\n",
    "    \n",
    "    #127"
   ]
  }
 ],
 "metadata": {
  "kernelspec": {
   "display_name": "Python 3.10.5 64-bit",
   "language": "python",
   "name": "python3"
  },
  "language_info": {
   "codemirror_mode": {
    "name": "ipython",
    "version": 3
   },
   "file_extension": ".py",
   "mimetype": "text/x-python",
   "name": "python",
   "nbconvert_exporter": "python",
   "pygments_lexer": "ipython3",
   "version": "3.10.5"
  },
  "orig_nbformat": 4,
  "vscode": {
   "interpreter": {
    "hash": "aee8b7b246df8f9039afb4144a1f6fd8d2ca17a180786b69acc140d282b71a49"
   }
  }
 },
 "nbformat": 4,
 "nbformat_minor": 2
}
