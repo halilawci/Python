{
 "cells": [
  {
   "cell_type": "markdown",
   "metadata": {},
   "source": [
    "# Assignment PYB-8 (Covid-19 Risk with if Statement)\n",
    "\n",
    "Task: Estimating the risk of death from coronavirus. Write a program that;\n",
    "Takes \"Yes\" or \"No\" from the user as an answer to the following questions:\n",
    "\n",
    "Are you a cigarette addict older than 75 years old? Variable - age\n",
    "Do you have a severe chronic disease? Variable - chronic\n",
    "Is your immune system too weak? Variable -  immune\n",
    "Set a logical algorithm using boolean logic operators (and/or) and use if-statements with the given variables in order to print out us a message\n",
    ": \"You are in risky group\"(if True ) or \"You are not in risky group\" (if False).\n",
    "\n",
    "age = # can be assigned only True/False\n",
    "chronic = # can be assigned only True/False\n",
    "immune = # can be assigned only True/False\n",
    "risk =?\n",
    "\n",
    "==========\n",
    "\n",
    "Görev: Koronavirüsten ölüm riskini tahmin etmek. Bir program yazın;\n",
    "Aşağıdaki sorulara yanıt olarak kullanıcıdan \"Evet\" veya \"Hayır\" alır:\n",
    "\n",
    "75 yaşından büyük bir sigara bağımlısı mısınız? Değişken - yaş\n",
    "Ağır bir kronik hastalığınız var mı? Değişken - kronik\n",
    "Bağışıklık sisteminiz çok mu zayıf? Değişken - bağışıklık\n",
    "Boolean mantık operatörlerini (ve/veya) kullanarak mantıksal bir algoritma ayarlayın ve bize bir mesaj yazdırmak için verilen değişkenlerle if-ifadelerini kullanın.\n",
    ": \"Riskli gruptasınız\"(Doğru ise) veya \"Riskli grupta değilsiniz\" (Yanlış ise).\n",
    "\n",
    "yaş = # yalnızca Doğru/Yanlış atanabilir\n",
    "kronik = # yalnızca Doğru/Yanlış atanabilir\n",
    "immün = # yalnızca Doğru/Yanlış atanabilir\n",
    "risk =?"
   ]
  },
  {
   "cell_type": "code",
   "execution_count": 1,
   "metadata": {},
   "outputs": [
    {
     "data": {
      "text/plain": [
       "str"
      ]
     },
     "execution_count": 1,
     "metadata": {},
     "output_type": "execute_result"
    }
   ],
   "source": [
    "type(\"clarusway\".title())"
   ]
  },
  {
   "cell_type": "code",
   "execution_count": 2,
   "metadata": {},
   "outputs": [
    {
     "name": "stdout",
     "output_type": "stream",
     "text": [
      "You are not in risky group\n"
     ]
    }
   ],
   "source": [
    "age = input(\"Are you a cigarette addict older than 75 years old? (Yes/No)\"). lower ().strip ()\n",
    "chronic = input (\"Do you have a severe chronic disease (Yes/No)\") .lower().strip()\n",
    "immune = input(\"Is your immune system too weak (Yes/No)\").lower ().strip()\n",
    "\n",
    "if (age == \"yes\") or (chronic == \"yes\") or (immune == \"yes\"):\n",
    "    print(\"You are in risky group\")\n",
    "    \n",
    "else:\n",
    "    print(\"You are not in risky group\")"
   ]
  },
  {
   "cell_type": "code",
   "execution_count": 3,
   "metadata": {},
   "outputs": [
    {
     "name": "stdout",
     "output_type": "stream",
     "text": [
      "You are in risky group\n"
     ]
    }
   ],
   "source": [
    "age = input(\"Are you a cigarette addict older than 75 years old? (Yes/No)\"). lower ().strip ()\n",
    "chronic = input (\"Do you have a severe chronic disease (Yes/No)\") .lower().strip()\n",
    "immune = input(\"Is your immune system too weak (Yes/No)\").lower ().strip()\n",
    "\n",
    "if (age == \"no\") or (chronic == \"no\") or (immune == \"no\"):\n",
    "    print(\"You are NOT in risky group\")\n",
    "    \n",
    "else:\n",
    "    print(\"You are in risky group\")"
   ]
  },
  {
   "cell_type": "code",
   "execution_count": 4,
   "metadata": {},
   "outputs": [
    {
     "name": "stdout",
     "output_type": "stream",
     "text": [
      "You are NOT in risky group\n"
     ]
    }
   ],
   "source": [
    "age = input(\"Are you a cigarette addict older than 75 years old? (Yes/No)\"). lower ().strip () == \"yes\"\n",
    "chronic = input (\"Do you have a severe chronic disease (Yes/No)\") .lower().strip() == \"yes\"\n",
    "immune = input(\"Is your immune system too weak (Yes/No)\").lower ().strip() == \"yes\"\n",
    "\n",
    "if age or chronic or immune :\n",
    "    print(\"You are in risky group\")\n",
    "\n",
    "else :\n",
    "    print(\"You are NOT in risky group\")"
   ]
  },
  {
   "cell_type": "code",
   "execution_count": null,
   "metadata": {},
   "outputs": [],
   "source": []
  },
  {
   "cell_type": "code",
   "execution_count": null,
   "metadata": {},
   "outputs": [],
   "source": []
  },
  {
   "cell_type": "code",
   "execution_count": null,
   "metadata": {},
   "outputs": [],
   "source": []
  },
  {
   "cell_type": "code",
   "execution_count": null,
   "metadata": {},
   "outputs": [],
   "source": []
  },
  {
   "cell_type": "code",
   "execution_count": null,
   "metadata": {},
   "outputs": [],
   "source": []
  },
  {
   "cell_type": "code",
   "execution_count": null,
   "metadata": {},
   "outputs": [],
   "source": []
  }
 ],
 "metadata": {
  "kernelspec": {
   "display_name": "Python 3.10.5 64-bit",
   "language": "python",
   "name": "python3"
  },
  "language_info": {
   "codemirror_mode": {
    "name": "ipython",
    "version": 3
   },
   "file_extension": ".py",
   "mimetype": "text/x-python",
   "name": "python",
   "nbconvert_exporter": "python",
   "pygments_lexer": "ipython3",
   "version": "3.10.5"
  },
  "orig_nbformat": 4,
  "vscode": {
   "interpreter": {
    "hash": "aee8b7b246df8f9039afb4144a1f6fd8d2ca17a180786b69acc140d282b71a49"
   }
  }
 },
 "nbformat": 4,
 "nbformat_minor": 2
}
